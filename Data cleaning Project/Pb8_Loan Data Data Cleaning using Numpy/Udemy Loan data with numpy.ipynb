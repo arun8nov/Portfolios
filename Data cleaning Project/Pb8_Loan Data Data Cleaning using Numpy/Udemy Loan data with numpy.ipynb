{
 "cells": [
  {
   "cell_type": "markdown",
   "id": "37c4c8fb-215c-4c4a-a978-fa2f456f213f",
   "metadata": {},
   "source": [
    "# Loan data analysis using numpy"
   ]
  },
  {
   "cell_type": "markdown",
   "id": "1b141a44-a2f2-45df-8296-809b6caa9356",
   "metadata": {},
   "source": [
    "## Import Packages"
   ]
  },
  {
   "cell_type": "code",
   "execution_count": 849,
   "id": "534419e3-6279-4cb4-b3eb-61b994d04175",
   "metadata": {},
   "outputs": [],
   "source": [
    "import numpy as np"
   ]
  },
  {
   "cell_type": "code",
   "execution_count": 850,
   "id": "c0b24a4d-561d-4b0a-a9b3-47f37c4e90cf",
   "metadata": {},
   "outputs": [],
   "source": [
    "# to negulate scinific notaion in numeric dats\n",
    "np.set_printoptions(suppress = True, linewidth = 100, precision = 2)"
   ]
  },
  {
   "cell_type": "markdown",
   "id": "80d6113e-133f-4172-abc5-82d082605004",
   "metadata": {},
   "source": [
    "## import Data "
   ]
  },
  {
   "cell_type": "code",
   "execution_count": 851,
   "id": "38411f29-2943-4a6b-97ee-0bbe91a8f84f",
   "metadata": {},
   "outputs": [],
   "source": [
    "ld = np.genfromtxt(r\"D:\\Data sets\\Udemy Practice\\Data Cleaning & processing\\loan-data.csv\",\n",
    "                   delimiter =';',\n",
    "                   skip_header= True, \n",
    "                   autostrip= True)"
   ]
  },
  {
   "cell_type": "code",
   "execution_count": 852,
   "id": "7418fd65-cb92-442d-98e7-ab0f59913a53",
   "metadata": {},
   "outputs": [
    {
     "data": {
      "text/plain": [
       "array([[48010226.  ,         nan,    35000.  , ...,         nan,         nan,     9452.96],\n",
       "       [57693261.  ,         nan,    30000.  , ...,         nan,         nan,     4679.7 ],\n",
       "       [59432726.  ,         nan,    15000.  , ...,         nan,         nan,     1969.83],\n",
       "       ...,\n",
       "       [50415990.  ,         nan,    10000.  , ...,         nan,         nan,     2185.64],\n",
       "       [46154151.  ,         nan,         nan, ...,         nan,         nan,     3199.4 ],\n",
       "       [66055249.  ,         nan,    10000.  , ...,         nan,         nan,      301.9 ]])"
      ]
     },
     "execution_count": 852,
     "metadata": {},
     "output_type": "execute_result"
    }
   ],
   "source": [
    "ld"
   ]
  },
  {
   "cell_type": "code",
   "execution_count": 853,
   "id": "48d71881-1d04-4204-a860-3e1a88726dfe",
   "metadata": {},
   "outputs": [
    {
     "data": {
      "text/plain": [
       "(10000, 14)"
      ]
     },
     "execution_count": 853,
     "metadata": {},
     "output_type": "execute_result"
    }
   ],
   "source": [
    "ld.shape"
   ]
  },
  {
   "cell_type": "markdown",
   "id": "93581937-3002-4f62-a8d6-23950f88ef14",
   "metadata": {},
   "source": [
    "## Checking incomplete Data"
   ]
  },
  {
   "cell_type": "code",
   "execution_count": 854,
   "id": "19dbda83-5d8d-433b-bd80-778c5b0f3327",
   "metadata": {},
   "outputs": [
    {
     "data": {
      "text/plain": [
       "88005"
      ]
     },
     "execution_count": 854,
     "metadata": {},
     "output_type": "execute_result"
    }
   ],
   "source": [
    "np.isnan(ld).sum()"
   ]
  },
  {
   "cell_type": "code",
   "execution_count": 855,
   "id": "c092e515-27e5-40a9-bfda-47129b5ad8cc",
   "metadata": {},
   "outputs": [
    {
     "name": "stderr",
     "output_type": "stream",
     "text": [
      "C:\\Users\\Arunprakash Babu\\AppData\\Local\\Temp\\ipykernel_9972\\522726117.py:2: RuntimeWarning: Mean of empty slice\n",
      "  temp_mean = np.nanmean(ld,axis = 0)\n"
     ]
    }
   ],
   "source": [
    "temp_fill = np.nanmax(ld) +1\n",
    "temp_mean = np.nanmean(ld,axis = 0)"
   ]
  },
  {
   "cell_type": "code",
   "execution_count": 856,
   "id": "6c880aaf-d302-4cfb-9ef2-2e3d1746efcf",
   "metadata": {},
   "outputs": [
    {
     "data": {
      "text/plain": [
       "array([54015809.19,         nan,    15273.46,         nan,    15311.04,         nan,       16.62,\n",
       "            440.92,         nan,         nan,         nan,         nan,         nan,     3143.85])"
      ]
     },
     "execution_count": 856,
     "metadata": {},
     "output_type": "execute_result"
    }
   ],
   "source": [
    "temp_mean"
   ]
  },
  {
   "cell_type": "code",
   "execution_count": 857,
   "id": "928926ab-68c8-451b-aa83-4c00be24bd75",
   "metadata": {},
   "outputs": [
    {
     "name": "stderr",
     "output_type": "stream",
     "text": [
      "C:\\Users\\Arunprakash Babu\\AppData\\Local\\Temp\\ipykernel_9972\\3228149148.py:1: RuntimeWarning: All-NaN slice encountered\n",
      "  temp_status = np.array([np.nanmin(ld, axis = 0),\n",
      "C:\\Users\\Arunprakash Babu\\AppData\\Local\\Temp\\ipykernel_9972\\3228149148.py:3: RuntimeWarning: All-NaN slice encountered\n",
      "  np.nanmax(ld, axis = 0)])\n"
     ]
    }
   ],
   "source": [
    "temp_status = np.array([np.nanmin(ld, axis = 0), \n",
    "                        temp_mean, \n",
    "                        np.nanmax(ld, axis = 0)])\n",
    "                        "
   ]
  },
  {
   "cell_type": "code",
   "execution_count": 858,
   "id": "093252db-5bfc-4ad1-9e88-9503af6bd1a0",
   "metadata": {},
   "outputs": [
    {
     "data": {
      "text/plain": [
       "array([[  373332.  ,         nan,     1000.  ,         nan,     1000.  ,         nan,        6.  ,\n",
       "              31.42,         nan,         nan,         nan,         nan,         nan,        0.  ],\n",
       "       [54015809.19,         nan,    15273.46,         nan,    15311.04,         nan,       16.62,\n",
       "             440.92,         nan,         nan,         nan,         nan,         nan,     3143.85],\n",
       "       [68616519.  ,         nan,    35000.  ,         nan,    35000.  ,         nan,       28.99,\n",
       "            1372.97,         nan,         nan,         nan,         nan,         nan,    41913.62]])"
      ]
     },
     "execution_count": 858,
     "metadata": {},
     "output_type": "execute_result"
    }
   ],
   "source": [
    "temp_status"
   ]
  },
  {
   "cell_type": "markdown",
   "id": "55c0f893-e782-4c78-94aa-cae37d6372cd",
   "metadata": {},
   "source": [
    "## Splitting Data set"
   ]
  },
  {
   "cell_type": "markdown",
   "id": "c1b60b5b-e22f-4be9-821c-0778370d4066",
   "metadata": {},
   "source": [
    "### Splitting the Columns"
   ]
  },
  {
   "cell_type": "code",
   "execution_count": 859,
   "id": "f37563eb-6e21-4dd0-8c31-3692948cae17",
   "metadata": {},
   "outputs": [
    {
     "data": {
      "text/plain": [
       "array([54015809.19,         nan,    15273.46,         nan,    15311.04,         nan,       16.62,\n",
       "            440.92,         nan,         nan,         nan,         nan,         nan,     3143.85])"
      ]
     },
     "execution_count": 859,
     "metadata": {},
     "output_type": "execute_result"
    }
   ],
   "source": [
    "temp_mean"
   ]
  },
  {
   "cell_type": "code",
   "execution_count": 860,
   "id": "276a7e7e-ec1e-4bf9-a05b-c3153f01fbc5",
   "metadata": {},
   "outputs": [
    {
     "data": {
      "text/plain": [
       "array([ 1,  3,  5,  8,  9, 10, 11, 12], dtype=int64)"
      ]
     },
     "execution_count": 860,
     "metadata": {},
     "output_type": "execute_result"
    }
   ],
   "source": [
    "column_string = np.argwhere(np.isnan(temp_mean)).squeeze()\n",
    "column_string"
   ]
  },
  {
   "cell_type": "code",
   "execution_count": 861,
   "id": "b0fb9dcf-a418-43bf-ae02-eea88adeae3c",
   "metadata": {},
   "outputs": [
    {
     "data": {
      "text/plain": [
       "array([ 0,  2,  4,  6,  7, 13], dtype=int64)"
      ]
     },
     "execution_count": 861,
     "metadata": {},
     "output_type": "execute_result"
    }
   ],
   "source": [
    "column_numeric = np.argwhere(np.isnan(temp_mean) == False).squeeze()\n",
    "column_numeric"
   ]
  },
  {
   "cell_type": "markdown",
   "id": "a1867cab-8d74-4b2b-a20e-fe5a2a8a5d2d",
   "metadata": {},
   "source": [
    "## Reimpoerting Dataset"
   ]
  },
  {
   "cell_type": "code",
   "execution_count": 862,
   "id": "386a883e-f9e8-47d8-8bde-c1f2b12ce454",
   "metadata": {},
   "outputs": [],
   "source": [
    "lds = np.genfromtxt(r\"D:\\Data sets\\Udemy Practice\\Data Cleaning & processing\\loan-data.csv\",\n",
    "                   delimiter =';',\n",
    "                   skip_header= True, \n",
    "                   autostrip= True,\n",
    "                   usecols = column_string,\n",
    "                   dtype = 'str')"
   ]
  },
  {
   "cell_type": "code",
   "execution_count": 863,
   "id": "19477336-d10e-4647-abad-11abbb7d75ee",
   "metadata": {},
   "outputs": [
    {
     "data": {
      "text/plain": [
       "array([['May-15', 'Current', '36 months', ..., 'Verified',\n",
       "        'https://www.lendingclub.com/browse/loanDetail.action?loan_id=48010226', 'CA'],\n",
       "       ['', 'Current', '36 months', ..., 'Source Verified',\n",
       "        'https://www.lendingclub.com/browse/loanDetail.action?loan_id=57693261', 'NY'],\n",
       "       ['Sep-15', 'Current', '36 months', ..., 'Verified',\n",
       "        'https://www.lendingclub.com/browse/loanDetail.action?loan_id=59432726', 'PA'],\n",
       "       ...,\n",
       "       ['Jun-15', 'Current', '36 months', ..., 'Source Verified',\n",
       "        'https://www.lendingclub.com/browse/loanDetail.action?loan_id=50415990', 'CA'],\n",
       "       ['Apr-15', 'Current', '36 months', ..., 'Source Verified',\n",
       "        'https://www.lendingclub.com/browse/loanDetail.action?loan_id=46154151', 'OH'],\n",
       "       ['Dec-15', 'Current', '36 months', ..., '',\n",
       "        'https://www.lendingclub.com/browse/loanDetail.action?loan_id=66055249', 'IL']],\n",
       "      dtype='<U69')"
      ]
     },
     "execution_count": 863,
     "metadata": {},
     "output_type": "execute_result"
    }
   ],
   "source": [
    "lds"
   ]
  },
  {
   "cell_type": "code",
   "execution_count": 864,
   "id": "47dd5403-e4fe-4d93-ac73-70cbaddce940",
   "metadata": {},
   "outputs": [],
   "source": [
    "ldn = np.genfromtxt(r\"D:\\Data sets\\Udemy Practice\\Data Cleaning & processing\\loan-data.csv\",\n",
    "                   delimiter =';',\n",
    "                   skip_header= True, \n",
    "                   autostrip= True,\n",
    "                   usecols = column_numeric,\n",
    "                   filling_values = temp_fill)"
   ]
  },
  {
   "cell_type": "code",
   "execution_count": 865,
   "id": "98fc7c57-610c-4382-87b1-3d0a2e824427",
   "metadata": {},
   "outputs": [
    {
     "data": {
      "text/plain": [
       "array([[48010226.  ,    35000.  ,    35000.  ,       13.33,     1184.86,     9452.96],\n",
       "       [57693261.  ,    30000.  ,    30000.  , 68616520.  ,      938.57,     4679.7 ],\n",
       "       [59432726.  ,    15000.  ,    15000.  , 68616520.  ,      494.86,     1969.83],\n",
       "       ...,\n",
       "       [50415990.  ,    10000.  ,    10000.  , 68616520.  , 68616520.  ,     2185.64],\n",
       "       [46154151.  , 68616520.  ,    10000.  ,       16.55,      354.3 ,     3199.4 ],\n",
       "       [66055249.  ,    10000.  ,    10000.  , 68616520.  ,      309.97,      301.9 ]])"
      ]
     },
     "execution_count": 865,
     "metadata": {},
     "output_type": "execute_result"
    }
   ],
   "source": [
    "ldn"
   ]
  },
  {
   "cell_type": "code",
   "execution_count": 866,
   "id": "e1a48b9e-540a-4b31-8140-71758f46b882",
   "metadata": {},
   "outputs": [
    {
     "data": {
      "text/plain": [
       "68616520.0"
      ]
     },
     "execution_count": 866,
     "metadata": {},
     "output_type": "execute_result"
    }
   ],
   "source": [
    "temp_fill"
   ]
  },
  {
   "cell_type": "code",
   "execution_count": 867,
   "id": "b86fc8fd-a404-475b-867b-b57cdf88a90d",
   "metadata": {},
   "outputs": [
    {
     "data": {
      "text/plain": [
       "array([[48010226.  ,         nan,    35000.  , ...,         nan,         nan,     9452.96],\n",
       "       [57693261.  ,         nan,    30000.  , ...,         nan,         nan,     4679.7 ],\n",
       "       [59432726.  ,         nan,    15000.  , ...,         nan,         nan,     1969.83],\n",
       "       ...,\n",
       "       [50415990.  ,         nan,    10000.  , ...,         nan,         nan,     2185.64],\n",
       "       [46154151.  ,         nan,         nan, ...,         nan,         nan,     3199.4 ],\n",
       "       [66055249.  ,         nan,    10000.  , ...,         nan,         nan,      301.9 ]])"
      ]
     },
     "execution_count": 867,
     "metadata": {},
     "output_type": "execute_result"
    }
   ],
   "source": [
    "ld"
   ]
  },
  {
   "cell_type": "markdown",
   "id": "c4335d9e-0a65-4b83-8a3f-a5ed6e2e6eae",
   "metadata": {},
   "source": [
    "## The Columns Name "
   ]
  },
  {
   "cell_type": "code",
   "execution_count": 868,
   "id": "1139c7e0-9cd5-4ccc-9809-130831705af6",
   "metadata": {},
   "outputs": [],
   "source": [
    "ldcn = np.genfromtxt(r\"D:\\Data sets\\Udemy Practice\\Data Cleaning & processing\\loan-data.csv\",\n",
    "                   delimiter =';', \n",
    "                   autostrip= True,\n",
    "                   dtype = 'str')"
   ]
  },
  {
   "cell_type": "code",
   "execution_count": 869,
   "id": "87ecec11-b589-4380-b759-d80f8fada378",
   "metadata": {},
   "outputs": [],
   "source": [
    "ld_Column_Names = ldcn[0]"
   ]
  },
  {
   "cell_type": "code",
   "execution_count": 870,
   "id": "56e74ab1-4ad7-45ab-9f7b-7b9b7ad7a626",
   "metadata": {},
   "outputs": [
    {
     "data": {
      "text/plain": [
       "array(['id', 'issue_d', 'loan_amnt', 'loan_status', 'funded_amnt', 'term', 'int_rate',\n",
       "       'installment', 'grade', 'sub_grade', 'verification_status', 'url', 'addr_state',\n",
       "       'total_pymnt'], dtype='<U69')"
      ]
     },
     "execution_count": 870,
     "metadata": {},
     "output_type": "execute_result"
    }
   ],
   "source": [
    "ld_Column_Names"
   ]
  },
  {
   "cell_type": "code",
   "execution_count": 871,
   "id": "bcb7328d-2760-404b-9c16-6a9080d30716",
   "metadata": {},
   "outputs": [],
   "source": [
    "lds_Column_Names = ld_Column_Names[column_string]"
   ]
  },
  {
   "cell_type": "code",
   "execution_count": 872,
   "id": "baf1eb04-94e1-4fa9-ae85-b73b881a97dc",
   "metadata": {},
   "outputs": [],
   "source": [
    "ldn_Column_Names = ld_Column_Names[column_numeric]"
   ]
  },
  {
   "cell_type": "code",
   "execution_count": 873,
   "id": "9142f2af-c3c3-4293-8664-5d3e18a3185f",
   "metadata": {},
   "outputs": [
    {
     "data": {
      "text/plain": [
       "array(['issue_d', 'loan_status', 'term', 'grade', 'sub_grade', 'verification_status', 'url',\n",
       "       'addr_state'], dtype='<U69')"
      ]
     },
     "execution_count": 873,
     "metadata": {},
     "output_type": "execute_result"
    }
   ],
   "source": [
    "lds_Column_Names"
   ]
  },
  {
   "cell_type": "code",
   "execution_count": 874,
   "id": "14ac6e50-6f9a-45f5-8674-8fa8aa2de7b4",
   "metadata": {},
   "outputs": [
    {
     "data": {
      "text/plain": [
       "array(['id', 'loan_amnt', 'funded_amnt', 'int_rate', 'installment', 'total_pymnt'], dtype='<U69')"
      ]
     },
     "execution_count": 874,
     "metadata": {},
     "output_type": "execute_result"
    }
   ],
   "source": [
    "ldn_Column_Names"
   ]
  },
  {
   "cell_type": "markdown",
   "id": "2736f561-ce5d-4b95-adfc-7a8bb37660b3",
   "metadata": {},
   "source": [
    "## Manipulating String Columns"
   ]
  },
  {
   "cell_type": "code",
   "execution_count": 875,
   "id": "f69e8d23-82c7-4e1d-ac19-2c69fef667a3",
   "metadata": {},
   "outputs": [
    {
     "data": {
      "text/plain": [
       "array(['issue_d', 'loan_status', 'term', 'grade', 'sub_grade', 'verification_status', 'url',\n",
       "       'addr_state'], dtype='<U69')"
      ]
     },
     "execution_count": 875,
     "metadata": {},
     "output_type": "execute_result"
    }
   ],
   "source": [
    "lds_Column_Names"
   ]
  },
  {
   "cell_type": "code",
   "execution_count": 876,
   "id": "ea5b4095-fa1f-436a-ac17-ce8a895efc3a",
   "metadata": {},
   "outputs": [],
   "source": [
    "lds_Column_Names[0] = 'issue_date'"
   ]
  },
  {
   "cell_type": "code",
   "execution_count": 877,
   "id": "9a8edd84-f047-49f5-b337-1215e9fb45f0",
   "metadata": {},
   "outputs": [
    {
     "data": {
      "text/plain": [
       "array(['issue_date', 'loan_status', 'term', 'grade', 'sub_grade', 'verification_status', 'url',\n",
       "       'addr_state'], dtype='<U69')"
      ]
     },
     "execution_count": 877,
     "metadata": {},
     "output_type": "execute_result"
    }
   ],
   "source": [
    "lds_Column_Names"
   ]
  },
  {
   "cell_type": "markdown",
   "id": "485b34ac-51c1-4f73-bb58-a1e0aff4ea4b",
   "metadata": {},
   "source": [
    "### Issue Date column"
   ]
  },
  {
   "cell_type": "code",
   "execution_count": 878,
   "id": "a8d5d28a-ed4e-4462-8d78-eb3b835d79af",
   "metadata": {},
   "outputs": [
    {
     "data": {
      "text/plain": [
       "array(['May-15', '', 'Sep-15', ..., 'Jun-15', 'Apr-15', 'Dec-15'], dtype='<U69')"
      ]
     },
     "execution_count": 878,
     "metadata": {},
     "output_type": "execute_result"
    }
   ],
   "source": [
    "lds[:,0]"
   ]
  },
  {
   "cell_type": "code",
   "execution_count": 879,
   "id": "53c1e890-9460-409a-a6a9-43909072a7a3",
   "metadata": {},
   "outputs": [
    {
     "data": {
      "text/plain": [
       "array(['', 'Apr-15', 'Aug-15', 'Dec-15', 'Feb-15', 'Jan-15', 'Jul-15', 'Jun-15', 'Mar-15',\n",
       "       'May-15', 'Nov-15', 'Oct-15', 'Sep-15'], dtype='<U69')"
      ]
     },
     "execution_count": 879,
     "metadata": {},
     "output_type": "execute_result"
    }
   ],
   "source": [
    "# Checking unique value\n",
    "np.unique(lds[:,0])"
   ]
  },
  {
   "cell_type": "code",
   "execution_count": 880,
   "id": "a7aeafd4-7c7c-428e-8dc5-3b9f36ff5ef5",
   "metadata": {},
   "outputs": [],
   "source": [
    "lds[:,0] = np.chararray.strip(lds[:,0],\"-15\")"
   ]
  },
  {
   "cell_type": "code",
   "execution_count": 881,
   "id": "5a70b7cf-5caa-4e23-8242-4ea9ea74e3fa",
   "metadata": {},
   "outputs": [
    {
     "data": {
      "text/plain": [
       "array(['', 'Apr', 'Aug', 'Dec', 'Feb', 'Jan', 'Jul', 'Jun', 'Mar', 'May', 'Nov', 'Oct', 'Sep'],\n",
       "      dtype='<U69')"
      ]
     },
     "execution_count": 881,
     "metadata": {},
     "output_type": "execute_result"
    }
   ],
   "source": [
    "np.unique(lds[:,0])"
   ]
  },
  {
   "cell_type": "code",
   "execution_count": 882,
   "id": "945305a7-28d7-47ff-9768-36fb771c8546",
   "metadata": {},
   "outputs": [],
   "source": [
    "# Change the month columns in to numeric meaning"
   ]
  },
  {
   "cell_type": "code",
   "execution_count": 883,
   "id": "60155567-42e9-4c26-8eaf-33695481963d",
   "metadata": {},
   "outputs": [],
   "source": [
    "months = np.array(['','Jan', 'Feb', 'Mar', 'Apr', 'May', 'Jun', 'Jul', 'Aug', 'Sep', \n",
    "                   'Oct', 'Nov', 'Dec'])"
   ]
  },
  {
   "cell_type": "code",
   "execution_count": 884,
   "id": "fd1fa3c1-442b-4fa4-88c3-3d259de9f4f1",
   "metadata": {},
   "outputs": [
    {
     "data": {
      "text/plain": [
       "array(['', 'Jan', 'Feb', 'Mar', 'Apr', 'May', 'Jun', 'Jul', 'Aug', 'Sep', 'Oct', 'Nov', 'Dec'],\n",
       "      dtype='<U3')"
      ]
     },
     "execution_count": 884,
     "metadata": {},
     "output_type": "execute_result"
    }
   ],
   "source": [
    "months"
   ]
  },
  {
   "cell_type": "code",
   "execution_count": 885,
   "id": "0d49ac1b-21d9-4f18-b009-cc8f069b6abb",
   "metadata": {},
   "outputs": [],
   "source": [
    "for i in range(13):\n",
    "    lds[:,0] = np.where(lds[:,0] == months[i],\n",
    "                         i,\n",
    "                         lds[:,0])           "
   ]
  },
  {
   "cell_type": "code",
   "execution_count": 886,
   "id": "cc3f1b82-7c54-4d38-bddf-2c275270bb4a",
   "metadata": {},
   "outputs": [
    {
     "data": {
      "text/plain": [
       "array(['0', '1', '10', '11', '12', '2', '3', '4', '5', '6', '7', '8', '9'], dtype='<U69')"
      ]
     },
     "execution_count": 886,
     "metadata": {},
     "output_type": "execute_result"
    }
   ],
   "source": [
    "np.unique(lds[:,0])"
   ]
  },
  {
   "cell_type": "markdown",
   "id": "7463edc4-558a-4b72-ab19-8cd3a9668576",
   "metadata": {},
   "source": [
    "### Loan Status Column"
   ]
  },
  {
   "cell_type": "code",
   "execution_count": 887,
   "id": "740d4b81-388c-49e4-9457-56138b231794",
   "metadata": {},
   "outputs": [
    {
     "data": {
      "text/plain": [
       "array(['issue_date', 'loan_status', 'term', 'grade', 'sub_grade', 'verification_status', 'url',\n",
       "       'addr_state'], dtype='<U69')"
      ]
     },
     "execution_count": 887,
     "metadata": {},
     "output_type": "execute_result"
    }
   ],
   "source": [
    "lds_Column_Names"
   ]
  },
  {
   "cell_type": "code",
   "execution_count": 888,
   "id": "491aeddc-d4ec-403c-9852-6a1efc01f0f8",
   "metadata": {},
   "outputs": [
    {
     "data": {
      "text/plain": [
       "array(['Current', 'Current', 'Current', ..., 'Current', 'Current', 'Current'], dtype='<U69')"
      ]
     },
     "execution_count": 888,
     "metadata": {},
     "output_type": "execute_result"
    }
   ],
   "source": [
    "lds[:,1]"
   ]
  },
  {
   "cell_type": "code",
   "execution_count": 889,
   "id": "bffbae0d-ce93-4d6e-8007-a3cf96b23224",
   "metadata": {},
   "outputs": [
    {
     "data": {
      "text/plain": [
       "array(['', 'Charged Off', 'Current', 'Default', 'Fully Paid', 'In Grace Period', 'Issued',\n",
       "       'Late (16-30 days)', 'Late (31-120 days)'], dtype='<U69')"
      ]
     },
     "execution_count": 889,
     "metadata": {},
     "output_type": "execute_result"
    }
   ],
   "source": [
    "np.unique(lds[:,1])"
   ]
  },
  {
   "cell_type": "code",
   "execution_count": 890,
   "id": "dca00b4a-e045-47d5-9802-f2854afd0ef6",
   "metadata": {},
   "outputs": [
    {
     "data": {
      "text/plain": [
       "9"
      ]
     },
     "execution_count": 890,
     "metadata": {},
     "output_type": "execute_result"
    }
   ],
   "source": [
    "len(np.unique(lds[:,1]))"
   ]
  },
  {
   "cell_type": "code",
   "execution_count": 891,
   "id": "50143fc6-0f66-498c-9d9f-29bf24e94310",
   "metadata": {},
   "outputs": [],
   "source": [
    "status_bad = np.array(['', 'Charged Off', 'Default', 'Late (31-120 days)'])"
   ]
  },
  {
   "cell_type": "code",
   "execution_count": 892,
   "id": "938ce3be-4912-4110-96ee-6956efd032af",
   "metadata": {},
   "outputs": [
    {
     "data": {
      "text/plain": [
       "array([False, False, False, ..., False, False, False])"
      ]
     },
     "execution_count": 892,
     "metadata": {},
     "output_type": "execute_result"
    }
   ],
   "source": [
    "np.isin(lds[:,1] , status_bad) == True"
   ]
  },
  {
   "cell_type": "code",
   "execution_count": 893,
   "id": "86bc4cbf-3e96-434c-a421-0b6496456dde",
   "metadata": {},
   "outputs": [],
   "source": [
    "#Assign 0 to bad statis 1 to good status"
   ]
  },
  {
   "cell_type": "code",
   "execution_count": 894,
   "id": "b62d65a7-8557-4415-9844-9eb207c765a9",
   "metadata": {},
   "outputs": [],
   "source": [
    "lds[:,1] = np.where(np.isin(lds[:,1] , status_bad),0,1)"
   ]
  },
  {
   "cell_type": "code",
   "execution_count": 895,
   "id": "b724dfef-910f-47dc-a82d-86a229e0b3ab",
   "metadata": {},
   "outputs": [
    {
     "data": {
      "text/plain": [
       "array(['1', '1', '1', ..., '1', '1', '1'], dtype='<U69')"
      ]
     },
     "execution_count": 895,
     "metadata": {},
     "output_type": "execute_result"
    }
   ],
   "source": [
    "lds[:,1]"
   ]
  },
  {
   "cell_type": "code",
   "execution_count": 896,
   "id": "71081860-7dde-4ae3-b167-a637070a4ed5",
   "metadata": {},
   "outputs": [
    {
     "data": {
      "text/plain": [
       "array(['0', '1'], dtype='<U69')"
      ]
     },
     "execution_count": 896,
     "metadata": {},
     "output_type": "execute_result"
    }
   ],
   "source": [
    "np.unique(lds[:,1])"
   ]
  },
  {
   "cell_type": "markdown",
   "id": "58548120-dc9c-46c1-96b3-f952adc38ed9",
   "metadata": {},
   "source": [
    "### Term Column"
   ]
  },
  {
   "cell_type": "code",
   "execution_count": 897,
   "id": "c35544eb-93cc-4e1e-b5ab-a8650975d9b6",
   "metadata": {},
   "outputs": [
    {
     "data": {
      "text/plain": [
       "array(['issue_date', 'loan_status', 'term', 'grade', 'sub_grade', 'verification_status', 'url',\n",
       "       'addr_state'], dtype='<U69')"
      ]
     },
     "execution_count": 897,
     "metadata": {},
     "output_type": "execute_result"
    }
   ],
   "source": [
    "lds_Column_Names"
   ]
  },
  {
   "cell_type": "code",
   "execution_count": 898,
   "id": "867a21eb-324f-47ce-9ca4-b05121d295f9",
   "metadata": {},
   "outputs": [
    {
     "data": {
      "text/plain": [
       "array(['36 months', '36 months', '36 months', ..., '36 months', '36 months', '36 months'],\n",
       "      dtype='<U69')"
      ]
     },
     "execution_count": 898,
     "metadata": {},
     "output_type": "execute_result"
    }
   ],
   "source": [
    "lds[:,2]"
   ]
  },
  {
   "cell_type": "code",
   "execution_count": 899,
   "id": "7788dfa1-fc51-4024-add0-391caf4f4344",
   "metadata": {},
   "outputs": [
    {
     "data": {
      "text/plain": [
       "array(['', '36 months', '60 months'], dtype='<U69')"
      ]
     },
     "execution_count": 899,
     "metadata": {},
     "output_type": "execute_result"
    }
   ],
   "source": [
    "np.unique(lds[:,2])"
   ]
  },
  {
   "cell_type": "code",
   "execution_count": 900,
   "id": "90911dc3-d6c5-4011-be81-71d7787637e3",
   "metadata": {},
   "outputs": [],
   "source": [
    "lds[:,2] = np.chararray.strip(lds[:,2],\" months\")"
   ]
  },
  {
   "cell_type": "code",
   "execution_count": 901,
   "id": "8eb840d4-66bd-4156-97a3-6fd980ac7d20",
   "metadata": {},
   "outputs": [
    {
     "data": {
      "text/plain": [
       "array(['', '36', '60'], dtype='<U69')"
      ]
     },
     "execution_count": 901,
     "metadata": {},
     "output_type": "execute_result"
    }
   ],
   "source": [
    "np.unique(lds[:,2])"
   ]
  },
  {
   "cell_type": "code",
   "execution_count": 902,
   "id": "16534059-7dd3-4cd6-bf58-8eea7ed65424",
   "metadata": {},
   "outputs": [],
   "source": [
    "# Assign the empty to highst value\n",
    "lds[:,2] = np.where(lds[:,2] == '',60,lds[:,2])"
   ]
  },
  {
   "cell_type": "code",
   "execution_count": 903,
   "id": "c997276a-4f7a-48d6-a5df-d12739b23634",
   "metadata": {},
   "outputs": [
    {
     "data": {
      "text/plain": [
       "array(['36', '60'], dtype='<U69')"
      ]
     },
     "execution_count": 903,
     "metadata": {},
     "output_type": "execute_result"
    }
   ],
   "source": [
    "np.unique(lds[:,2])"
   ]
  },
  {
   "cell_type": "code",
   "execution_count": 904,
   "id": "fd8992a6-e93f-4e98-b3cd-559ea8e842c4",
   "metadata": {},
   "outputs": [],
   "source": [
    "# Rename the column name \n",
    "lds_Column_Names[2] = 'term_months'"
   ]
  },
  {
   "cell_type": "code",
   "execution_count": 905,
   "id": "401821b8-65df-4d43-9544-b0dc86bed45c",
   "metadata": {},
   "outputs": [
    {
     "data": {
      "text/plain": [
       "array(['issue_date', 'loan_status', 'term_months', 'grade', 'sub_grade', 'verification_status',\n",
       "       'url', 'addr_state'], dtype='<U69')"
      ]
     },
     "execution_count": 905,
     "metadata": {},
     "output_type": "execute_result"
    }
   ],
   "source": [
    "lds_Column_Names"
   ]
  },
  {
   "cell_type": "markdown",
   "id": "6ddb42c8-c55a-4187-922a-160c0d89e743",
   "metadata": {},
   "source": [
    "### Greade Column & Sub Grade Column"
   ]
  },
  {
   "cell_type": "code",
   "execution_count": 906,
   "id": "93a266f1-441b-4c76-8c66-2e40c886477b",
   "metadata": {},
   "outputs": [
    {
     "data": {
      "text/plain": [
       "array(['issue_date', 'loan_status', 'term_months', 'grade', 'sub_grade', 'verification_status',\n",
       "       'url', 'addr_state'], dtype='<U69')"
      ]
     },
     "execution_count": 906,
     "metadata": {},
     "output_type": "execute_result"
    }
   ],
   "source": [
    "lds_Column_Names"
   ]
  },
  {
   "cell_type": "code",
   "execution_count": 907,
   "id": "bed8b9c2-51f4-4802-a16d-4c410bbe0b41",
   "metadata": {},
   "outputs": [
    {
     "data": {
      "text/plain": [
       "array(['C', 'A', 'B', ..., 'A', 'D', 'A'], dtype='<U69')"
      ]
     },
     "execution_count": 907,
     "metadata": {},
     "output_type": "execute_result"
    }
   ],
   "source": [
    "lds[:,3]"
   ]
  },
  {
   "cell_type": "code",
   "execution_count": 908,
   "id": "968723bd-9fa5-433c-ad6b-e363db404171",
   "metadata": {},
   "outputs": [
    {
     "data": {
      "text/plain": [
       "array(['', 'A', 'B', 'C', 'D', 'E', 'F', 'G'], dtype='<U69')"
      ]
     },
     "execution_count": 908,
     "metadata": {},
     "output_type": "execute_result"
    }
   ],
   "source": [
    "np.unique(lds[:,3])"
   ]
  },
  {
   "cell_type": "code",
   "execution_count": 909,
   "id": "3534d04d-c864-4889-822b-1beb378ef317",
   "metadata": {},
   "outputs": [
    {
     "data": {
      "text/plain": [
       "array(['C3', 'A5', 'B5', ..., 'A5', 'D2', 'A4'], dtype='<U69')"
      ]
     },
     "execution_count": 909,
     "metadata": {},
     "output_type": "execute_result"
    }
   ],
   "source": [
    "# Revie of subgrade column \n",
    "lds[:,4]"
   ]
  },
  {
   "cell_type": "code",
   "execution_count": 910,
   "id": "4d0064d9-f733-41df-a99f-f916773dcdb3",
   "metadata": {},
   "outputs": [
    {
     "data": {
      "text/plain": [
       "array(['', 'A1', 'A2', 'A3', 'A4', 'A5', 'B1', 'B2', 'B3', 'B4', 'B5', 'C1', 'C2', 'C3', 'C4',\n",
       "       'C5', 'D1', 'D2', 'D3', 'D4', 'D5', 'E1', 'E2', 'E3', 'E4', 'E5', 'F1', 'F2', 'F3', 'F4',\n",
       "       'F5', 'G1', 'G2', 'G3', 'G4', 'G5'], dtype='<U69')"
      ]
     },
     "execution_count": 910,
     "metadata": {},
     "output_type": "execute_result"
    }
   ],
   "source": [
    "np.unique(lds[:,4])"
   ]
  },
  {
   "cell_type": "markdown",
   "id": "d6d753ce-d971-4447-a8c1-f23375fc0635",
   "metadata": {
    "jp-MarkdownHeadingCollapsed": true
   },
   "source": [
    "#### Filling Sub Grade"
   ]
  },
  {
   "cell_type": "code",
   "execution_count": 911,
   "id": "2e70ec7e-4763-4e29-8d2f-840c7026a659",
   "metadata": {},
   "outputs": [],
   "source": [
    "for i in np.unique(lds[:,3])[1:]:\n",
    "    lds[:,4] = np.where((lds[:,4] == '') & (lds[:,3] == i),\n",
    "                        i+'5',\n",
    "                        lds[:,4])"
   ]
  },
  {
   "cell_type": "code",
   "execution_count": 912,
   "id": "d33a5594-a186-483a-8ddc-4a28382cb5c3",
   "metadata": {},
   "outputs": [
    {
     "data": {
      "text/plain": [
       "array(['', 'A1', 'A2', 'A3', 'A4', 'A5', 'B1', 'B2', 'B3', 'B4', 'B5', 'C1', 'C2', 'C3', 'C4',\n",
       "       'C5', 'D1', 'D2', 'D3', 'D4', 'D5', 'E1', 'E2', 'E3', 'E4', 'E5', 'F1', 'F2', 'F3', 'F4',\n",
       "       'F5', 'G1', 'G2', 'G3', 'G4', 'G5'], dtype='<U69')"
      ]
     },
     "execution_count": 912,
     "metadata": {},
     "output_type": "execute_result"
    }
   ],
   "source": [
    "np.unique(lds[:,4])"
   ]
  },
  {
   "cell_type": "code",
   "execution_count": 913,
   "id": "5cfd9073-5be3-4db8-bd73-2f9cbf023c68",
   "metadata": {},
   "outputs": [
    {
     "data": {
      "text/plain": [
       "(array(['', 'A1', 'A2', 'A3', 'A4', 'A5', 'B1', 'B2', 'B3', 'B4', 'B5', 'C1', 'C2', 'C3', 'C4',\n",
       "        'C5', 'D1', 'D2', 'D3', 'D4', 'D5', 'E1', 'E2', 'E3', 'E4', 'E5', 'F1', 'F2', 'F3', 'F4',\n",
       "        'F5', 'G1', 'G2', 'G3', 'G4', 'G5'], dtype='<U69'),\n",
       " array([  9, 285, 278, 239, 323, 592, 509, 517, 530, 553, 633, 629, 567, 586, 564, 577, 391, 267,\n",
       "        250, 255, 288, 235, 162, 171, 139, 160,  94,  52,  34,  43,  24,  19,  10,   3,   7,   5],\n",
       "       dtype=int64))"
      ]
     },
     "execution_count": 913,
     "metadata": {},
     "output_type": "execute_result"
    }
   ],
   "source": [
    "# Checking the counts\n",
    "np.unique(lds[:,4], return_counts =True)"
   ]
  },
  {
   "cell_type": "code",
   "execution_count": 914,
   "id": "44afa503-db49-4526-a43f-56a893751b82",
   "metadata": {},
   "outputs": [],
   "source": [
    "lds[:,4] = np.where (lds[:,4] == '','H1',lds[:,4])"
   ]
  },
  {
   "cell_type": "code",
   "execution_count": 915,
   "id": "b8f1d69d-fdb6-44c2-9d9f-e14b44afc973",
   "metadata": {
    "scrolled": true
   },
   "outputs": [
    {
     "data": {
      "text/plain": [
       "(array(['A1', 'A2', 'A3', 'A4', 'A5', 'B1', 'B2', 'B3', 'B4', 'B5', 'C1', 'C2', 'C3', 'C4', 'C5',\n",
       "        'D1', 'D2', 'D3', 'D4', 'D5', 'E1', 'E2', 'E3', 'E4', 'E5', 'F1', 'F2', 'F3', 'F4', 'F5',\n",
       "        'G1', 'G2', 'G3', 'G4', 'G5', 'H1'], dtype='<U69'),\n",
       " array([285, 278, 239, 323, 592, 509, 517, 530, 553, 633, 629, 567, 586, 564, 577, 391, 267, 250,\n",
       "        255, 288, 235, 162, 171, 139, 160,  94,  52,  34,  43,  24,  19,  10,   3,   7,   5,   9],\n",
       "       dtype=int64))"
      ]
     },
     "execution_count": 915,
     "metadata": {},
     "output_type": "execute_result"
    }
   ],
   "source": [
    "np.unique(lds[:,4], return_counts =True)"
   ]
  },
  {
   "cell_type": "markdown",
   "id": "c54f5d00-53f0-4a0c-9d72-71cd4b360ae7",
   "metadata": {
    "jp-MarkdownHeadingCollapsed": true
   },
   "source": [
    "#### Removing Grade "
   ]
  },
  {
   "cell_type": "code",
   "execution_count": 916,
   "id": "477496d3-32f5-4ec5-8e2e-526da84c2741",
   "metadata": {},
   "outputs": [],
   "source": [
    "# due to subgrade perfect to proceed further removing the grade column\n",
    "lds = np.delete(lds,3,axis = 1)"
   ]
  },
  {
   "cell_type": "code",
   "execution_count": 917,
   "id": "96ca25fa-1154-4506-84fe-11d8cffc5845",
   "metadata": {},
   "outputs": [
    {
     "data": {
      "text/plain": [
       "array(['C3', 'A5', 'B5', ..., 'A5', 'D2', 'A4'], dtype='<U69')"
      ]
     },
     "execution_count": 917,
     "metadata": {},
     "output_type": "execute_result"
    }
   ],
   "source": [
    "lds[:,3]"
   ]
  },
  {
   "cell_type": "code",
   "execution_count": 918,
   "id": "a4cb4ca1-5e91-47d3-9e96-e9aca46055d7",
   "metadata": {},
   "outputs": [],
   "source": [
    "# dellete in column name\n",
    "lds_Column_Names = np.delete(lds_Column_Names,3)"
   ]
  },
  {
   "cell_type": "code",
   "execution_count": 919,
   "id": "910bd4b2-2aff-4837-ad8e-53b56e341411",
   "metadata": {},
   "outputs": [
    {
     "data": {
      "text/plain": [
       "array(['issue_date', 'loan_status', 'term_months', 'sub_grade', 'verification_status', 'url',\n",
       "       'addr_state'], dtype='<U69')"
      ]
     },
     "execution_count": 919,
     "metadata": {},
     "output_type": "execute_result"
    }
   ],
   "source": [
    "lds_Column_Names"
   ]
  },
  {
   "cell_type": "markdown",
   "id": "01a4993e-c9fb-4c54-a385-200882ce3639",
   "metadata": {},
   "source": [
    "#### Converting Sub Grade"
   ]
  },
  {
   "cell_type": "code",
   "execution_count": 920,
   "id": "b69cb084-0ea6-4236-a547-1abc4a5c1626",
   "metadata": {},
   "outputs": [
    {
     "data": {
      "text/plain": [
       "array(['C3', 'A5', 'B5', ..., 'A5', 'D2', 'A4'], dtype='<U69')"
      ]
     },
     "execution_count": 920,
     "metadata": {},
     "output_type": "execute_result"
    }
   ],
   "source": [
    "lds[:,3]"
   ]
  },
  {
   "cell_type": "code",
   "execution_count": 921,
   "id": "9a87f012-ea46-4952-960d-dbbc6530a139",
   "metadata": {},
   "outputs": [],
   "source": [
    "# create dict for assing numbers to subgrade"
   ]
  },
  {
   "cell_type": "code",
   "execution_count": 922,
   "id": "d8b2cdf6-c384-49f6-b011-3161dbc7703a",
   "metadata": {},
   "outputs": [
    {
     "data": {
      "text/plain": [
       "['A1',\n",
       " 'A2',\n",
       " 'A3',\n",
       " 'A4',\n",
       " 'A5',\n",
       " 'B1',\n",
       " 'B2',\n",
       " 'B3',\n",
       " 'B4',\n",
       " 'B5',\n",
       " 'C1',\n",
       " 'C2',\n",
       " 'C3',\n",
       " 'C4',\n",
       " 'C5',\n",
       " 'D1',\n",
       " 'D2',\n",
       " 'D3',\n",
       " 'D4',\n",
       " 'D5',\n",
       " 'E1',\n",
       " 'E2',\n",
       " 'E3',\n",
       " 'E4',\n",
       " 'E5',\n",
       " 'F1',\n",
       " 'F2',\n",
       " 'F3',\n",
       " 'F4',\n",
       " 'F5',\n",
       " 'G1',\n",
       " 'G2',\n",
       " 'G3',\n",
       " 'G4',\n",
       " 'G5',\n",
       " 'H1']"
      ]
     },
     "execution_count": 922,
     "metadata": {},
     "output_type": "execute_result"
    }
   ],
   "source": [
    "# keys = list of sub grade \n",
    "keys = list(np.unique(lds[:,3]))\n",
    "keys"
   ]
  },
  {
   "cell_type": "code",
   "execution_count": 923,
   "id": "aba29723-d55b-4035-a57d-16b979543a6e",
   "metadata": {},
   "outputs": [
    {
     "data": {
      "text/plain": [
       "36"
      ]
     },
     "execution_count": 923,
     "metadata": {},
     "output_type": "execute_result"
    }
   ],
   "source": [
    "#number of unique vaues\n",
    "np.unique(lds[:,3]).shape[0]"
   ]
  },
  {
   "cell_type": "code",
   "execution_count": 924,
   "id": "275a0dfa-cb09-4119-b856-de4cadad6d48",
   "metadata": {},
   "outputs": [
    {
     "data": {
      "text/plain": [
       "[1,\n",
       " 2,\n",
       " 3,\n",
       " 4,\n",
       " 5,\n",
       " 6,\n",
       " 7,\n",
       " 8,\n",
       " 9,\n",
       " 10,\n",
       " 11,\n",
       " 12,\n",
       " 13,\n",
       " 14,\n",
       " 15,\n",
       " 16,\n",
       " 17,\n",
       " 18,\n",
       " 19,\n",
       " 20,\n",
       " 21,\n",
       " 22,\n",
       " 23,\n",
       " 24,\n",
       " 25,\n",
       " 26,\n",
       " 27,\n",
       " 28,\n",
       " 29,\n",
       " 30,\n",
       " 31,\n",
       " 32,\n",
       " 33,\n",
       " 34,\n",
       " 35,\n",
       " 36]"
      ]
     },
     "execution_count": 924,
     "metadata": {},
     "output_type": "execute_result"
    }
   ],
   "source": [
    "# make the list values in unique sub grade\n",
    "values = list(range(1,np.unique(lds[:,3]).shape[0]+1))\n",
    "values"
   ]
  },
  {
   "cell_type": "code",
   "execution_count": 925,
   "id": "1cf2b129-fc42-44f2-b2ab-91083e01a2c4",
   "metadata": {},
   "outputs": [
    {
     "data": {
      "text/plain": [
       "{'A1': 1,\n",
       " 'A2': 2,\n",
       " 'A3': 3,\n",
       " 'A4': 4,\n",
       " 'A5': 5,\n",
       " 'B1': 6,\n",
       " 'B2': 7,\n",
       " 'B3': 8,\n",
       " 'B4': 9,\n",
       " 'B5': 10,\n",
       " 'C1': 11,\n",
       " 'C2': 12,\n",
       " 'C3': 13,\n",
       " 'C4': 14,\n",
       " 'C5': 15,\n",
       " 'D1': 16,\n",
       " 'D2': 17,\n",
       " 'D3': 18,\n",
       " 'D4': 19,\n",
       " 'D5': 20,\n",
       " 'E1': 21,\n",
       " 'E2': 22,\n",
       " 'E3': 23,\n",
       " 'E4': 24,\n",
       " 'E5': 25,\n",
       " 'F1': 26,\n",
       " 'F2': 27,\n",
       " 'F3': 28,\n",
       " 'F4': 29,\n",
       " 'F5': 30,\n",
       " 'G1': 31,\n",
       " 'G2': 32,\n",
       " 'G3': 33,\n",
       " 'G4': 34,\n",
       " 'G5': 35,\n",
       " 'H1': 36}"
      ]
     },
     "execution_count": 925,
     "metadata": {},
     "output_type": "execute_result"
    }
   ],
   "source": [
    "# create dict of keys and  Values \n",
    "dict_sub_grade = dict(zip(keys,values))\n",
    "dict_sub_grade"
   ]
  },
  {
   "cell_type": "code",
   "execution_count": 926,
   "id": "7bf6a4cc-4510-4eb8-8161-ad1178145963",
   "metadata": {},
   "outputs": [
    {
     "data": {
      "text/plain": [
       "36"
      ]
     },
     "execution_count": 926,
     "metadata": {},
     "output_type": "execute_result"
    }
   ],
   "source": [
    "dict_sub_grade['H1']"
   ]
  },
  {
   "cell_type": "code",
   "execution_count": 927,
   "id": "f2441218-6dff-4464-b43f-0f72a00589c3",
   "metadata": {},
   "outputs": [],
   "source": [
    "# Assign the values to sub_grade column\n",
    "for i in np.unique(lds[:,3]):\n",
    "    lds[:,3] = np.where(lds[:,3] == i,\n",
    "                        dict_sub_grade[i],\n",
    "                        lds[:,3])"
   ]
  },
  {
   "cell_type": "code",
   "execution_count": 928,
   "id": "83e18c8b-954a-477a-8486-2651c32e643a",
   "metadata": {},
   "outputs": [
    {
     "data": {
      "text/plain": [
       "array(['1', '10', '11', '12', '13', '14', '15', '16', '17', '18', '19', '2', '20', '21', '22',\n",
       "       '23', '24', '25', '26', '27', '28', '29', '3', '30', '31', '32', '33', '34', '35', '36',\n",
       "       '4', '5', '6', '7', '8', '9'], dtype='<U69')"
      ]
     },
     "execution_count": 928,
     "metadata": {},
     "output_type": "execute_result"
    }
   ],
   "source": [
    "np.unique(lds[:,3])"
   ]
  },
  {
   "cell_type": "markdown",
   "id": "b2ad8557-898d-4dd0-853b-bfd31b381607",
   "metadata": {},
   "source": [
    "### Verification Status Column"
   ]
  },
  {
   "cell_type": "code",
   "execution_count": 929,
   "id": "1e94c6e6-8e2c-4447-b5f3-4101dcc3fd0d",
   "metadata": {},
   "outputs": [
    {
     "data": {
      "text/plain": [
       "array(['issue_date', 'loan_status', 'term_months', 'sub_grade', 'verification_status', 'url',\n",
       "       'addr_state'], dtype='<U69')"
      ]
     },
     "execution_count": 929,
     "metadata": {},
     "output_type": "execute_result"
    }
   ],
   "source": [
    "lds_Column_Names"
   ]
  },
  {
   "cell_type": "code",
   "execution_count": 930,
   "id": "2172f002-c7e9-4b0a-ab2f-7ba2d77488b8",
   "metadata": {},
   "outputs": [
    {
     "data": {
      "text/plain": [
       "array(['Verified', 'Source Verified', 'Verified', ..., 'Source Verified', 'Source Verified', ''],\n",
       "      dtype='<U69')"
      ]
     },
     "execution_count": 930,
     "metadata": {},
     "output_type": "execute_result"
    }
   ],
   "source": [
    "lds[:,4]"
   ]
  },
  {
   "cell_type": "code",
   "execution_count": 931,
   "id": "d7e9cf02-7f9d-4761-bcd1-17512081f923",
   "metadata": {},
   "outputs": [
    {
     "data": {
      "text/plain": [
       "array(['', 'Not Verified', 'Source Verified', 'Verified'], dtype='<U69')"
      ]
     },
     "execution_count": 931,
     "metadata": {},
     "output_type": "execute_result"
    }
   ],
   "source": [
    "np.unique(lds[:,4])"
   ]
  },
  {
   "cell_type": "code",
   "execution_count": 932,
   "id": "88d6bd65-aecd-4a9d-ab8b-64d309ddba1f",
   "metadata": {},
   "outputs": [],
   "source": [
    "# Assign 0 and 1 in the column \n",
    "lds[:,4] = np.where((lds[:,4] == 'Source Verified') | (lds[:,4] == 'Verified'),\n",
    "         1,\n",
    "         0\n",
    "        )"
   ]
  },
  {
   "cell_type": "code",
   "execution_count": 933,
   "id": "49970ee7-cdfe-48d5-9b29-03bbc7bdbdee",
   "metadata": {},
   "outputs": [
    {
     "data": {
      "text/plain": [
       "array(['0', '1'], dtype='<U69')"
      ]
     },
     "execution_count": 933,
     "metadata": {},
     "output_type": "execute_result"
    }
   ],
   "source": [
    "np.unique(lds[:,4])"
   ]
  },
  {
   "cell_type": "markdown",
   "id": "5ff32d65-ab50-4e7f-88ec-472336d9d482",
   "metadata": {},
   "source": [
    "### URL Column"
   ]
  },
  {
   "cell_type": "code",
   "execution_count": 934,
   "id": "cace8b2a-1ae0-4841-84d4-9dc8a81abda0",
   "metadata": {},
   "outputs": [
    {
     "data": {
      "text/plain": [
       "array(['issue_date', 'loan_status', 'term_months', 'sub_grade', 'verification_status', 'url',\n",
       "       'addr_state'], dtype='<U69')"
      ]
     },
     "execution_count": 934,
     "metadata": {},
     "output_type": "execute_result"
    }
   ],
   "source": [
    "lds_Column_Names"
   ]
  },
  {
   "cell_type": "code",
   "execution_count": 935,
   "id": "4575673c-95c2-40d8-98fe-6bab7abb4071",
   "metadata": {},
   "outputs": [
    {
     "data": {
      "text/plain": [
       "array(['https://www.lendingclub.com/browse/loanDetail.action?loan_id=48010226',\n",
       "       'https://www.lendingclub.com/browse/loanDetail.action?loan_id=57693261',\n",
       "       'https://www.lendingclub.com/browse/loanDetail.action?loan_id=59432726', ...,\n",
       "       'https://www.lendingclub.com/browse/loanDetail.action?loan_id=50415990',\n",
       "       'https://www.lendingclub.com/browse/loanDetail.action?loan_id=46154151',\n",
       "       'https://www.lendingclub.com/browse/loanDetail.action?loan_id=66055249'], dtype='<U69')"
      ]
     },
     "execution_count": 935,
     "metadata": {},
     "output_type": "execute_result"
    }
   ],
   "source": [
    "lds[:,5]"
   ]
  },
  {
   "cell_type": "code",
   "execution_count": 936,
   "id": "152ada43-edfc-46e0-8aaa-f0ab5f90d04a",
   "metadata": {},
   "outputs": [],
   "source": [
    "# Removing repeted words \n",
    "lds[:,5] =np.chararray.strip(lds[:,5],'https://www.lendingclub.com/browse/loanDetail.action?loan_id=')"
   ]
  },
  {
   "cell_type": "code",
   "execution_count": 937,
   "id": "8e460735-fb08-41c2-aae9-62950859e7e2",
   "metadata": {},
   "outputs": [
    {
     "data": {
      "text/plain": [
       "array([48010226, 57693261, 59432726, ..., 50415990, 46154151, 66055249])"
      ]
     },
     "execution_count": 937,
     "metadata": {},
     "output_type": "execute_result"
    }
   ],
   "source": [
    "lds[:,5].astype(dtype = np.int32)"
   ]
  },
  {
   "cell_type": "code",
   "execution_count": 938,
   "id": "193ac6ba-747b-4acc-ab04-91f3beef807a",
   "metadata": {},
   "outputs": [
    {
     "data": {
      "text/plain": [
       "array(['id', 'loan_amnt', 'funded_amnt', 'int_rate', 'installment', 'total_pymnt'], dtype='<U69')"
      ]
     },
     "execution_count": 938,
     "metadata": {},
     "output_type": "execute_result"
    }
   ],
   "source": [
    "ldn_Column_Names"
   ]
  },
  {
   "cell_type": "code",
   "execution_count": 939,
   "id": "84922292-d939-420d-bbe2-389319fe595a",
   "metadata": {},
   "outputs": [
    {
     "data": {
      "text/plain": [
       "array([48010226, 57693261, 59432726, ..., 50415990, 46154151, 66055249])"
      ]
     },
     "execution_count": 939,
     "metadata": {},
     "output_type": "execute_result"
    }
   ],
   "source": [
    "ldn[:,0].astype(dtype = np.int32)"
   ]
  },
  {
   "cell_type": "code",
   "execution_count": 940,
   "id": "9fef4124-326d-4ac7-bb63-f339e6988215",
   "metadata": {},
   "outputs": [
    {
     "data": {
      "text/plain": [
       "True"
      ]
     },
     "execution_count": 940,
     "metadata": {},
     "output_type": "execute_result"
    }
   ],
   "source": [
    "np.array_equal(lds[:,5].astype(dtype = np.int32),ldn[:,0].astype(dtype = np.int32))"
   ]
  },
  {
   "cell_type": "code",
   "execution_count": 941,
   "id": "c830be5f-bdcd-4bf6-8e6c-7df39bf3d4ed",
   "metadata": {},
   "outputs": [],
   "source": [
    "#Both id and URL uniques are same so deleting the URL column"
   ]
  },
  {
   "cell_type": "code",
   "execution_count": 942,
   "id": "d420570c-c132-43d6-84ed-3d1c7d8c614a",
   "metadata": {},
   "outputs": [],
   "source": [
    "lds = np.delete(lds,5, axis = 1)"
   ]
  },
  {
   "cell_type": "code",
   "execution_count": 943,
   "id": "b6825600-36a2-4487-baad-cf8564bfc4e2",
   "metadata": {},
   "outputs": [],
   "source": [
    "# delete the column name \n",
    "lds_Column_Names = np.delete(lds_Column_Names,5)"
   ]
  },
  {
   "cell_type": "code",
   "execution_count": 944,
   "id": "7f58d1bd-f58d-4a7a-b9ca-aade09c21b50",
   "metadata": {},
   "outputs": [
    {
     "data": {
      "text/plain": [
       "array([['5', '1', '36', '13', '1', 'CA'],\n",
       "       ['0', '1', '36', '5', '1', 'NY'],\n",
       "       ['9', '1', '36', '10', '1', 'PA'],\n",
       "       ...,\n",
       "       ['6', '1', '36', '5', '1', 'CA'],\n",
       "       ['4', '1', '36', '17', '1', 'OH'],\n",
       "       ['12', '1', '36', '4', '0', 'IL']], dtype='<U69')"
      ]
     },
     "execution_count": 944,
     "metadata": {},
     "output_type": "execute_result"
    }
   ],
   "source": [
    "lds"
   ]
  },
  {
   "cell_type": "code",
   "execution_count": 945,
   "id": "4af98e99-660e-4ff6-bdf7-b14c4182db45",
   "metadata": {},
   "outputs": [
    {
     "data": {
      "text/plain": [
       "array(['issue_date', 'loan_status', 'term_months', 'sub_grade', 'verification_status',\n",
       "       'addr_state'], dtype='<U69')"
      ]
     },
     "execution_count": 945,
     "metadata": {},
     "output_type": "execute_result"
    }
   ],
   "source": [
    "lds_Column_Names"
   ]
  },
  {
   "cell_type": "code",
   "execution_count": 946,
   "id": "e0722939-9256-408f-822a-75cd79776c24",
   "metadata": {},
   "outputs": [
    {
     "data": {
      "text/plain": [
       "array([48010226., 57693261., 59432726., ..., 50415990., 46154151., 66055249.])"
      ]
     },
     "execution_count": 946,
     "metadata": {},
     "output_type": "execute_result"
    }
   ],
   "source": [
    "ld[:,0]"
   ]
  },
  {
   "cell_type": "markdown",
   "id": "3936f294-21f1-4deb-8ea9-79f94fb1149e",
   "metadata": {},
   "source": [
    "### State Address column"
   ]
  },
  {
   "cell_type": "code",
   "execution_count": 947,
   "id": "dcf1e56a-f1ed-41a3-b700-0adde1f0631e",
   "metadata": {},
   "outputs": [
    {
     "data": {
      "text/plain": [
       "array(['issue_date', 'loan_status', 'term_months', 'sub_grade', 'verification_status',\n",
       "       'addr_state'], dtype='<U69')"
      ]
     },
     "execution_count": 947,
     "metadata": {},
     "output_type": "execute_result"
    }
   ],
   "source": [
    "lds_Column_Names"
   ]
  },
  {
   "cell_type": "code",
   "execution_count": 948,
   "id": "1d0a0075-12ae-4a73-bebe-ccb519435311",
   "metadata": {},
   "outputs": [
    {
     "data": {
      "text/plain": [
       "array(['CA', 'NY', 'PA', ..., 'CA', 'OH', 'IL'], dtype='<U69')"
      ]
     },
     "execution_count": 948,
     "metadata": {},
     "output_type": "execute_result"
    }
   ],
   "source": [
    "lds[:,5]"
   ]
  },
  {
   "cell_type": "code",
   "execution_count": 949,
   "id": "1117cbdb-79d0-4440-b3e4-1014a641a7ff",
   "metadata": {},
   "outputs": [
    {
     "data": {
      "text/plain": [
       "array(['', 'AK', 'AL', 'AR', 'AZ', 'CA', 'CO', 'CT', 'DC', 'DE', 'FL', 'GA', 'HI', 'IL', 'IN',\n",
       "       'KS', 'KY', 'LA', 'MA', 'MD', 'ME', 'MI', 'MN', 'MO', 'MS', 'MT', 'NC', 'ND', 'NE', 'NH',\n",
       "       'NJ', 'NM', 'NV', 'NY', 'OH', 'OK', 'OR', 'PA', 'RI', 'SC', 'SD', 'TN', 'TX', 'UT', 'VA',\n",
       "       'VT', 'WA', 'WI', 'WV', 'WY'], dtype='<U69')"
      ]
     },
     "execution_count": 949,
     "metadata": {},
     "output_type": "execute_result"
    }
   ],
   "source": [
    "np.unique(lds[:,5])"
   ]
  },
  {
   "cell_type": "code",
   "execution_count": 950,
   "id": "0d4262f3-a33c-42c6-bffc-1cc6e4836d53",
   "metadata": {},
   "outputs": [
    {
     "data": {
      "text/plain": [
       "50"
      ]
     },
     "execution_count": 950,
     "metadata": {},
     "output_type": "execute_result"
    }
   ],
   "source": [
    "np.unique(lds[:,5]).size"
   ]
  },
  {
   "cell_type": "code",
   "execution_count": 951,
   "id": "91be215b-6e15-4dc7-9505-4d0fca568c34",
   "metadata": {},
   "outputs": [
    {
     "data": {
      "text/plain": [
       "(array(['', 'AK', 'AL', 'AR', 'AZ', 'CA', 'CO', 'CT', 'DC', 'DE', 'FL', 'GA', 'HI', 'IL', 'IN',\n",
       "        'KS', 'KY', 'LA', 'MA', 'MD', 'ME', 'MI', 'MN', 'MO', 'MS', 'MT', 'NC', 'ND', 'NE', 'NH',\n",
       "        'NJ', 'NM', 'NV', 'NY', 'OH', 'OK', 'OR', 'PA', 'RI', 'SC', 'SD', 'TN', 'TX', 'UT', 'VA',\n",
       "        'VT', 'WA', 'WI', 'WV', 'WY'], dtype='<U69'),\n",
       " array([ 500,   26,  119,   74,  220, 1336,  201,  143,   27,   27,  690,  321,   44,  389,  152,\n",
       "          84,   84,  116,  210,  222,   10,  267,  156,  160,   61,   28,  261,   16,   25,   58,\n",
       "         341,   57,  130,  777,  312,   83,  108,  320,   40,  107,   24,  143,  758,   74,  242,\n",
       "          17,  216,  148,   49,   27], dtype=int64))"
      ]
     },
     "execution_count": 951,
     "metadata": {},
     "output_type": "execute_result"
    }
   ],
   "source": [
    "np.unique(lds[:,5],return_counts = True)"
   ]
  },
  {
   "cell_type": "code",
   "execution_count": 952,
   "id": "19710e85-c2ef-4d53-b7b2-e338c2e954ab",
   "metadata": {},
   "outputs": [],
   "source": [
    "state_name, state_count = np.unique(lds[:,5],return_counts = True)"
   ]
  },
  {
   "cell_type": "code",
   "execution_count": 953,
   "id": "d316ad27-c400-47ea-af44-6f21ed61c5ae",
   "metadata": {},
   "outputs": [],
   "source": [
    "state_count_sorted = np.argsort(-state_count)"
   ]
  },
  {
   "cell_type": "code",
   "execution_count": 954,
   "id": "7490d3e7-4844-460f-b276-dec4a3254600",
   "metadata": {},
   "outputs": [
    {
     "data": {
      "text/plain": [
       "(array(['CA', 'NY', 'TX', 'FL', '', 'IL', 'NJ', 'GA', 'PA', 'OH', 'MI', 'NC', 'VA', 'MD', 'AZ',\n",
       "        'WA', 'MA', 'CO', 'MO', 'MN', 'IN', 'WI', 'CT', 'TN', 'NV', 'AL', 'LA', 'OR', 'SC', 'KY',\n",
       "        'KS', 'OK', 'UT', 'AR', 'MS', 'NH', 'NM', 'WV', 'HI', 'RI', 'MT', 'DE', 'DC', 'WY', 'AK',\n",
       "        'NE', 'SD', 'VT', 'ND', 'ME'], dtype='<U69'),\n",
       " array([1336,  777,  758,  690,  500,  389,  341,  321,  320,  312,  267,  261,  242,  222,  220,\n",
       "         216,  210,  201,  160,  156,  152,  148,  143,  143,  130,  119,  116,  108,  107,   84,\n",
       "          84,   83,   74,   74,   61,   58,   57,   49,   44,   40,   28,   27,   27,   27,   26,\n",
       "          25,   24,   17,   16,   10], dtype=int64))"
      ]
     },
     "execution_count": 954,
     "metadata": {},
     "output_type": "execute_result"
    }
   ],
   "source": [
    "state_name[state_count_sorted],state_count[state_count_sorted]"
   ]
  },
  {
   "cell_type": "code",
   "execution_count": 955,
   "id": "2b5eea41-9b53-4907-a92d-5c9bd8872df5",
   "metadata": {},
   "outputs": [],
   "source": [
    "lds[:,5] = np.where(lds[:,5]  == '',\n",
    "                    0,\n",
    "                    lds[:,5] )"
   ]
  },
  {
   "cell_type": "code",
   "execution_count": 956,
   "id": "f31a5dc9-c545-4ce6-a124-af77fe2f36b8",
   "metadata": {},
   "outputs": [],
   "source": [
    "# create group of states\n",
    "state_west = np.array(['WA', 'OR', 'CA', 'NV', 'ID', 'MT', 'WY', 'UT', 'CO', 'AZ', 'NM', 'HI', 'AK'])\n",
    "\n",
    "state_south = np.array(['TX', 'OK', 'AR', 'LA', 'MS', 'AL', 'TN', 'KY', 'FL', 'GA', 'SC', 'NC', 'VA', 'WV', 'MD', 'DE', 'DC'])\n",
    "\n",
    "state_midwest = np.array(['ND', 'SD', 'NE', 'KS', 'MN', 'IA', 'MO', 'WI', 'IL', 'IN', 'MI', 'OH'])\n",
    "\n",
    "state_east = np.array(['PA', 'NY', 'NJ', 'CT', 'MA', 'VT', 'NH', 'ME', 'RI'])"
   ]
  },
  {
   "cell_type": "code",
   "execution_count": 957,
   "id": "c0dfc91c-9de6-4925-ba15-becae3b81d15",
   "metadata": {},
   "outputs": [],
   "source": [
    "# Assigh the numeric values to the state group wise"
   ]
  },
  {
   "cell_type": "code",
   "execution_count": 958,
   "id": "951087d0-5e17-4448-94e2-0e18fc013019",
   "metadata": {},
   "outputs": [],
   "source": [
    "lds[:,5] = np.where(np.isin(lds[:,5], state_west), 1, lds[:,5])"
   ]
  },
  {
   "cell_type": "code",
   "execution_count": 959,
   "id": "a6efd8d5-c823-4f0c-85db-bdf729be38c6",
   "metadata": {},
   "outputs": [],
   "source": [
    "lds[:,5] = np.where(np.isin(lds[:,5], state_south), 2, lds[:,5])"
   ]
  },
  {
   "cell_type": "code",
   "execution_count": 960,
   "id": "30a8d06b-540f-4bbd-b539-ec987c5bf4c1",
   "metadata": {},
   "outputs": [],
   "source": [
    "lds[:,5] = np.where(np.isin(lds[:,5], state_midwest), 3, lds[:,5])"
   ]
  },
  {
   "cell_type": "code",
   "execution_count": 961,
   "id": "a2d6b522-74bd-41c6-a36a-c123bd0777df",
   "metadata": {},
   "outputs": [],
   "source": [
    "lds[:,5] = np.where(np.isin(lds[:,5], state_east), 4, lds[:,5])"
   ]
  },
  {
   "cell_type": "code",
   "execution_count": 962,
   "id": "96aa6352-5248-4c1d-ba58-1aba544f91b1",
   "metadata": {},
   "outputs": [
    {
     "data": {
      "text/plain": [
       "array(['1', '4', '4', ..., '1', '3', '3'], dtype='<U69')"
      ]
     },
     "execution_count": 962,
     "metadata": {},
     "output_type": "execute_result"
    }
   ],
   "source": [
    "lds[:,5]"
   ]
  },
  {
   "cell_type": "code",
   "execution_count": 963,
   "id": "328089a0-d69b-4d8e-a840-2f1e5f288427",
   "metadata": {},
   "outputs": [
    {
     "data": {
      "text/plain": [
       "array(['0', '1', '2', '3', '4'], dtype='<U69')"
      ]
     },
     "execution_count": 963,
     "metadata": {},
     "output_type": "execute_result"
    }
   ],
   "source": [
    "np.unique(lds[:,5])"
   ]
  },
  {
   "cell_type": "code",
   "execution_count": 964,
   "id": "7fa42f02-002f-4a21-9371-cc3553fe46e0",
   "metadata": {},
   "outputs": [
    {
     "data": {
      "text/plain": [
       "array([['5', '1', '36', '13', '1', '1'],\n",
       "       ['0', '1', '36', '5', '1', '4'],\n",
       "       ['9', '1', '36', '10', '1', '4'],\n",
       "       ...,\n",
       "       ['6', '1', '36', '5', '1', '1'],\n",
       "       ['4', '1', '36', '17', '1', '3'],\n",
       "       ['12', '1', '36', '4', '0', '3']], dtype='<U69')"
      ]
     },
     "execution_count": 964,
     "metadata": {},
     "output_type": "execute_result"
    }
   ],
   "source": [
    "lds"
   ]
  },
  {
   "cell_type": "markdown",
   "id": "d29a74a7-8855-4b0e-b1cb-e10a3c0eeadd",
   "metadata": {},
   "source": [
    "### Converting to Numbers"
   ]
  },
  {
   "cell_type": "code",
   "execution_count": 965,
   "id": "1d1acb50-0b4f-4a6b-94cb-e64b4a1e8792",
   "metadata": {},
   "outputs": [
    {
     "data": {
      "text/plain": [
       "array([['5', '1', '36', '13', '1', '1'],\n",
       "       ['0', '1', '36', '5', '1', '4'],\n",
       "       ['9', '1', '36', '10', '1', '4'],\n",
       "       ...,\n",
       "       ['6', '1', '36', '5', '1', '1'],\n",
       "       ['4', '1', '36', '17', '1', '3'],\n",
       "       ['12', '1', '36', '4', '0', '3']], dtype='<U69')"
      ]
     },
     "execution_count": 965,
     "metadata": {},
     "output_type": "execute_result"
    }
   ],
   "source": [
    "lds"
   ]
  },
  {
   "cell_type": "code",
   "execution_count": 966,
   "id": "273334a2-d03a-4522-bc67-7749463acbb7",
   "metadata": {},
   "outputs": [],
   "source": [
    "lds = lds.astype(np.int32)"
   ]
  },
  {
   "cell_type": "code",
   "execution_count": 967,
   "id": "dd19a973-572c-4c93-b535-28c96ff89e33",
   "metadata": {},
   "outputs": [
    {
     "data": {
      "text/plain": [
       "array([[ 5,  1, 36, 13,  1,  1],\n",
       "       [ 0,  1, 36,  5,  1,  4],\n",
       "       [ 9,  1, 36, 10,  1,  4],\n",
       "       ...,\n",
       "       [ 6,  1, 36,  5,  1,  1],\n",
       "       [ 4,  1, 36, 17,  1,  3],\n",
       "       [12,  1, 36,  4,  0,  3]])"
      ]
     },
     "execution_count": 967,
     "metadata": {},
     "output_type": "execute_result"
    }
   ],
   "source": [
    "lds"
   ]
  },
  {
   "cell_type": "markdown",
   "id": "8508c961-76c0-4e73-8152-fda7469a8a9f",
   "metadata": {},
   "source": [
    "## Manipulating Numeric dataset columns"
   ]
  },
  {
   "cell_type": "code",
   "execution_count": 968,
   "id": "ca72ff21-7403-4594-8c2b-910b095bda15",
   "metadata": {},
   "outputs": [
    {
     "data": {
      "text/plain": [
       "array([[48010226.  ,    35000.  ,    35000.  ,       13.33,     1184.86,     9452.96],\n",
       "       [57693261.  ,    30000.  ,    30000.  , 68616520.  ,      938.57,     4679.7 ],\n",
       "       [59432726.  ,    15000.  ,    15000.  , 68616520.  ,      494.86,     1969.83],\n",
       "       ...,\n",
       "       [50415990.  ,    10000.  ,    10000.  , 68616520.  , 68616520.  ,     2185.64],\n",
       "       [46154151.  , 68616520.  ,    10000.  ,       16.55,      354.3 ,     3199.4 ],\n",
       "       [66055249.  ,    10000.  ,    10000.  , 68616520.  ,      309.97,      301.9 ]])"
      ]
     },
     "execution_count": 968,
     "metadata": {},
     "output_type": "execute_result"
    }
   ],
   "source": [
    "ldn"
   ]
  },
  {
   "cell_type": "code",
   "execution_count": 969,
   "id": "68b59767-9f2f-409f-85f3-7906e96cbe99",
   "metadata": {},
   "outputs": [
    {
     "data": {
      "text/plain": [
       "0"
      ]
     },
     "execution_count": 969,
     "metadata": {},
     "output_type": "execute_result"
    }
   ],
   "source": [
    "np.isnan(ldn).sum()"
   ]
  },
  {
   "cell_type": "markdown",
   "id": "413dad94-8d68-4555-b1f1-14b0a856dd20",
   "metadata": {},
   "source": [
    "### Substitute \"Filler\" Values"
   ]
  },
  {
   "cell_type": "code",
   "execution_count": 970,
   "id": "141905f5-45b0-40a5-be1f-253efce6398a",
   "metadata": {},
   "outputs": [
    {
     "data": {
      "text/plain": [
       "array(['id', 'loan_amnt', 'funded_amnt', 'int_rate', 'installment', 'total_pymnt'], dtype='<U69')"
      ]
     },
     "execution_count": 970,
     "metadata": {},
     "output_type": "execute_result"
    }
   ],
   "source": [
    "ldn_Column_Names"
   ]
  },
  {
   "cell_type": "markdown",
   "id": "a917120a-f5c9-4a57-9cf8-5f1c4430674a",
   "metadata": {},
   "source": [
    "#### ID Column"
   ]
  },
  {
   "cell_type": "code",
   "execution_count": 971,
   "id": "be16ff46-0359-45b4-a257-bcff0ebcc420",
   "metadata": {},
   "outputs": [
    {
     "data": {
      "text/plain": [
       "array([48010226., 57693261., 59432726., ..., 50415990., 46154151., 66055249.])"
      ]
     },
     "execution_count": 971,
     "metadata": {},
     "output_type": "execute_result"
    }
   ],
   "source": [
    "ldn[:,0]"
   ]
  },
  {
   "cell_type": "code",
   "execution_count": 972,
   "id": "379236f2-e359-4bef-a078-8f9c295a8131",
   "metadata": {},
   "outputs": [
    {
     "data": {
      "text/plain": [
       "68616520.0"
      ]
     },
     "execution_count": 972,
     "metadata": {},
     "output_type": "execute_result"
    }
   ],
   "source": [
    "temp_fill"
   ]
  },
  {
   "cell_type": "code",
   "execution_count": 973,
   "id": "4b079499-fdad-48f8-97a1-c247a2105904",
   "metadata": {},
   "outputs": [
    {
     "data": {
      "text/plain": [
       "0"
      ]
     },
     "execution_count": 973,
     "metadata": {},
     "output_type": "execute_result"
    }
   ],
   "source": [
    "np.isin(ldn[:,0],temp_fill).sum()"
   ]
  },
  {
   "cell_type": "markdown",
   "id": "10e900f2-9795-4efc-bbfc-3befbe37664c",
   "metadata": {},
   "source": [
    "### Temporary status "
   ]
  },
  {
   "cell_type": "code",
   "execution_count": 974,
   "id": "0c81dd3d-376f-43a7-94d8-be4d541bb0ae",
   "metadata": {},
   "outputs": [
    {
     "data": {
      "text/plain": [
       "array([[  373332.  ,     1000.  ,     1000.  ,        6.  ,       31.42,        0.  ],\n",
       "       [54015809.19,    15273.46,    15311.04,       16.62,      440.92,     3143.85],\n",
       "       [68616519.  ,    35000.  ,    35000.  ,       28.99,     1372.97,    41913.62]])"
      ]
     },
     "execution_count": 974,
     "metadata": {},
     "output_type": "execute_result"
    }
   ],
   "source": [
    "temp_status[:, column_numeric]\n",
    "# Having \n",
    "# min \n",
    "# mean\n",
    "# max\n",
    "# values "
   ]
  },
  {
   "cell_type": "markdown",
   "id": "4ba114ba-6697-4488-badb-25e27812533d",
   "metadata": {},
   "source": [
    "### Funded Amount"
   ]
  },
  {
   "cell_type": "code",
   "execution_count": 975,
   "id": "de20dcb2-681e-4d6e-947b-d615a0f6d7b6",
   "metadata": {},
   "outputs": [
    {
     "data": {
      "text/plain": [
       "array(['id', 'loan_amnt', 'funded_amnt', 'int_rate', 'installment', 'total_pymnt'], dtype='<U69')"
      ]
     },
     "execution_count": 975,
     "metadata": {},
     "output_type": "execute_result"
    }
   ],
   "source": [
    "ldn_Column_Names"
   ]
  },
  {
   "cell_type": "code",
   "execution_count": 976,
   "id": "2c8c35ef-878e-470a-b34b-9b8ac5210c30",
   "metadata": {},
   "outputs": [
    {
     "data": {
      "text/plain": [
       "array([35000., 30000., 15000., ..., 10000., 10000., 10000.])"
      ]
     },
     "execution_count": 976,
     "metadata": {},
     "output_type": "execute_result"
    }
   ],
   "source": [
    "ldn[:,2]"
   ]
  },
  {
   "cell_type": "code",
   "execution_count": 977,
   "id": "29b54761-f6a0-46a4-9654-4be602fc270d",
   "metadata": {
    "scrolled": true
   },
   "outputs": [
    {
     "data": {
      "text/plain": [
       "array([35000., 30000., 15000., ..., 10000., 10000., 10000.])"
      ]
     },
     "execution_count": 977,
     "metadata": {},
     "output_type": "execute_result"
    }
   ],
   "source": [
    "ldn[:,2] = np.where(ldn[:,2] == temp_fill,\n",
    "         temp_status[0, column_numeric[2]],\n",
    "         ldn[:,2])\n",
    "ldn[:,2]"
   ]
  },
  {
   "cell_type": "markdown",
   "id": "0fc2e1ec-f324-486d-8882-dcbb8d902b00",
   "metadata": {},
   "source": [
    "### Loaned amunt, Intrest Rate, Total Payment, Instalment Columns"
   ]
  },
  {
   "cell_type": "code",
   "execution_count": 978,
   "id": "2f61667e-6953-4ffa-acdf-87e2b1196b50",
   "metadata": {},
   "outputs": [],
   "source": [
    "# Assign Max values"
   ]
  },
  {
   "cell_type": "code",
   "execution_count": 979,
   "id": "71c4130e-cb80-420a-8c30-54a2ba593bad",
   "metadata": {},
   "outputs": [
    {
     "data": {
      "text/plain": [
       "array(['id', 'loan_amnt', 'funded_amnt', 'int_rate', 'installment', 'total_pymnt'], dtype='<U69')"
      ]
     },
     "execution_count": 979,
     "metadata": {},
     "output_type": "execute_result"
    }
   ],
   "source": [
    "ldn_Column_Names"
   ]
  },
  {
   "cell_type": "code",
   "execution_count": 982,
   "id": "0e2ddae3-9576-48a8-ad74-7c2f0650be06",
   "metadata": {},
   "outputs": [],
   "source": [
    "for i in [1,3,4,5]:\n",
    "    ldn[:,i] = np.where(ldn[:,i] == temp_fill,\n",
    "         temp_status[2, column_numeric[i]],\n",
    "         ldn[:,i])"
   ]
  },
  {
   "cell_type": "code",
   "execution_count": 983,
   "id": "0b44b03c-1b22-44bb-88de-f7f3120832dd",
   "metadata": {},
   "outputs": [
    {
     "data": {
      "text/plain": [
       "array([[48010226.  ,    35000.  ,    35000.  ,       13.33,     1184.86,     9452.96],\n",
       "       [57693261.  ,    30000.  ,    30000.  ,       28.99,      938.57,     4679.7 ],\n",
       "       [59432726.  ,    15000.  ,    15000.  ,       28.99,      494.86,     1969.83],\n",
       "       ...,\n",
       "       [50415990.  ,    10000.  ,    10000.  ,       28.99,     1372.97,     2185.64],\n",
       "       [46154151.  ,    35000.  ,    10000.  ,       16.55,      354.3 ,     3199.4 ],\n",
       "       [66055249.  ,    10000.  ,    10000.  ,       28.99,      309.97,      301.9 ]])"
      ]
     },
     "execution_count": 983,
     "metadata": {},
     "output_type": "execute_result"
    }
   ],
   "source": [
    "ldn"
   ]
  },
  {
   "cell_type": "markdown",
   "id": "0a409ba5-12a3-44c5-8b87-82f5de494719",
   "metadata": {},
   "source": [
    "## Currency Change "
   ]
  },
  {
   "cell_type": "markdown",
   "id": "d88d94ad-4fec-457d-918f-8d3ac0d24e73",
   "metadata": {
    "jupyter": {
     "source_hidden": true
    }
   },
   "source": [
    "### The Exchange Rate"
   ]
  },
  {
   "cell_type": "code",
   "execution_count": 989,
   "id": "e0fe29ff-fd8c-405c-8f23-2eca4d71285b",
   "metadata": {},
   "outputs": [],
   "source": [
    "# import data of the 2015 euro to dolllar file  we only need 4 th column due to closing price\n",
    "EUR_USD = np.genfromtxt(r\"D:\\Data sets\\Udemy Practice\\Data Cleaning & processing\\EUR-USD.csv\", \n",
    "                        delimiter = ',',\n",
    "                        autostrip = True,\n",
    "                        skip_header= True,\n",
    "                        usecols= 3)"
   ]
  },
  {
   "cell_type": "code",
   "execution_count": 990,
   "id": "69e074f7-2ea0-4eea-a17c-8e761a41544f",
   "metadata": {},
   "outputs": [
    {
     "data": {
      "text/plain": [
       "array([1.13, 1.12, 1.08, 1.11, 1.1 , 1.12, 1.09, 1.13, 1.13, 1.1 , 1.06, 1.09])"
      ]
     },
     "execution_count": 990,
     "metadata": {},
     "output_type": "execute_result"
    }
   ],
   "source": [
    "EUR_USD"
   ]
  },
  {
   "cell_type": "code",
   "execution_count": 991,
   "id": "c3ac70f5-3250-43de-885f-9ac43d52c730",
   "metadata": {},
   "outputs": [
    {
     "data": {
      "text/plain": [
       "array([[ 5,  1, 36, 13,  1,  1],\n",
       "       [ 0,  1, 36,  5,  1,  4],\n",
       "       [ 9,  1, 36, 10,  1,  4],\n",
       "       ...,\n",
       "       [ 6,  1, 36,  5,  1,  1],\n",
       "       [ 4,  1, 36, 17,  1,  3],\n",
       "       [12,  1, 36,  4,  0,  3]])"
      ]
     },
     "execution_count": 991,
     "metadata": {},
     "output_type": "execute_result"
    }
   ],
   "source": [
    "lds"
   ]
  },
  {
   "cell_type": "code",
   "execution_count": 992,
   "id": "e95f4452-4d08-4f47-85c2-cf88040574aa",
   "metadata": {},
   "outputs": [
    {
     "data": {
      "text/plain": [
       "array(['issue_date', 'loan_status', 'term_months', 'sub_grade', 'verification_status',\n",
       "       'addr_state'], dtype='<U69')"
      ]
     },
     "execution_count": 992,
     "metadata": {},
     "output_type": "execute_result"
    }
   ],
   "source": [
    "lds_Column_Names"
   ]
  },
  {
   "cell_type": "code",
   "execution_count": 994,
   "id": "88a36f89-7fa1-4b53-a448-d3ff5598eda2",
   "metadata": {},
   "outputs": [
    {
     "data": {
      "text/plain": [
       "array([ 5,  0,  9, ...,  6,  4, 12])"
      ]
     },
     "execution_count": 994,
     "metadata": {},
     "output_type": "execute_result"
    }
   ],
   "source": [
    "exchange_rate = lds[:,0]\n",
    "exchange_rate"
   ]
  },
  {
   "cell_type": "code",
   "execution_count": 997,
   "id": "f21f3313-8349-4211-a695-3a2b6e58f279",
   "metadata": {},
   "outputs": [],
   "source": [
    "for i in range(1,13):\n",
    "    exchange_rate = np.where(exchange_rate == i,\n",
    "                             EUR_USD[i-1],\n",
    "                             exchange_rate)"
   ]
  },
  {
   "cell_type": "code",
   "execution_count": 999,
   "id": "08472193-4e70-4c96-af59-ee014c4e0046",
   "metadata": {},
   "outputs": [],
   "source": [
    "exchange_rate = np.where(exchange_rate == 0,\n",
    "                         np.mean(EUR_USD),\n",
    "                         exchange_rate)"
   ]
  },
  {
   "cell_type": "code",
   "execution_count": 1000,
   "id": "9bf4d554-203b-49ed-b99b-83bcb3babc78",
   "metadata": {},
   "outputs": [
    {
     "data": {
      "text/plain": [
       "array([1.1 , 1.11, 1.13, ..., 1.12, 1.11, 1.09])"
      ]
     },
     "execution_count": 1000,
     "metadata": {},
     "output_type": "execute_result"
    }
   ],
   "source": [
    "exchange_rate"
   ]
  },
  {
   "cell_type": "code",
   "execution_count": 1001,
   "id": "55a7ad0a-f436-401b-b437-9cc84647a524",
   "metadata": {},
   "outputs": [
    {
     "data": {
      "text/plain": [
       "(10000,)"
      ]
     },
     "execution_count": 1001,
     "metadata": {},
     "output_type": "execute_result"
    }
   ],
   "source": [
    "exchange_rate.shape"
   ]
  },
  {
   "cell_type": "code",
   "execution_count": 1002,
   "id": "7c3b5e85-a613-44db-824e-082dca4240f8",
   "metadata": {},
   "outputs": [
    {
     "data": {
      "text/plain": [
       "(10000, 6)"
      ]
     },
     "execution_count": 1002,
     "metadata": {},
     "output_type": "execute_result"
    }
   ],
   "source": [
    "ldn.shape"
   ]
  },
  {
   "cell_type": "code",
   "execution_count": 1004,
   "id": "f17a2075-f963-41b2-b0af-89c01f20a1c4",
   "metadata": {},
   "outputs": [],
   "source": [
    "exchange_rate = np.reshape(exchange_rate,(10000,1))"
   ]
  },
  {
   "cell_type": "code",
   "execution_count": 1005,
   "id": "7ba56e34-19d6-472e-85fd-0f5256ffc30a",
   "metadata": {},
   "outputs": [
    {
     "data": {
      "text/plain": [
       "array([[1.1 ],\n",
       "       [1.11],\n",
       "       [1.13],\n",
       "       ...,\n",
       "       [1.12],\n",
       "       [1.11],\n",
       "       [1.09]])"
      ]
     },
     "execution_count": 1005,
     "metadata": {},
     "output_type": "execute_result"
    }
   ],
   "source": [
    "exchange_rate"
   ]
  },
  {
   "cell_type": "code",
   "execution_count": 1008,
   "id": "1730773f-f711-42d4-b2f0-63316ba59eb2",
   "metadata": {},
   "outputs": [],
   "source": [
    "# Merge 2 array in single\n",
    "ldn = np.hstack((ldn,exchange_rate))"
   ]
  },
  {
   "cell_type": "code",
   "execution_count": 1009,
   "id": "789dfa7a-1e59-45d8-9804-6e05ccad6fd5",
   "metadata": {},
   "outputs": [
    {
     "data": {
      "text/plain": [
       "array([[48010226.  ,    35000.  ,    35000.  , ...,     1184.86,     9452.96,        1.1 ],\n",
       "       [57693261.  ,    30000.  ,    30000.  , ...,      938.57,     4679.7 ,        1.11],\n",
       "       [59432726.  ,    15000.  ,    15000.  , ...,      494.86,     1969.83,        1.13],\n",
       "       ...,\n",
       "       [50415990.  ,    10000.  ,    10000.  , ...,     1372.97,     2185.64,        1.12],\n",
       "       [46154151.  ,    35000.  ,    10000.  , ...,      354.3 ,     3199.4 ,        1.11],\n",
       "       [66055249.  ,    10000.  ,    10000.  , ...,      309.97,      301.9 ,        1.09]])"
      ]
     },
     "execution_count": 1009,
     "metadata": {},
     "output_type": "execute_result"
    }
   ],
   "source": [
    "ldn"
   ]
  },
  {
   "cell_type": "code",
   "execution_count": 1013,
   "id": "0461ae42-78af-4377-81e7-ea306e6c7b2a",
   "metadata": {},
   "outputs": [],
   "source": [
    "# add column name in to exist one \n",
    "ldn_Column_Names = np.concatenate((ldn_Column_Names, np.array(['exchange_rate'])))"
   ]
  },
  {
   "cell_type": "code",
   "execution_count": 1014,
   "id": "da23a65b-c503-4cd3-ae47-dc2fdfa33052",
   "metadata": {},
   "outputs": [
    {
     "data": {
      "text/plain": [
       "array(['id', 'loan_amnt', 'funded_amnt', 'int_rate', 'installment', 'total_pymnt', 'exchange_rate'],\n",
       "      dtype='<U69')"
      ]
     },
     "execution_count": 1014,
     "metadata": {},
     "output_type": "execute_result"
    }
   ],
   "source": [
    "ldn_Column_Names"
   ]
  },
  {
   "cell_type": "markdown",
   "id": "ce3f2f53-88a2-42b8-9bca-1dec1fa22f89",
   "metadata": {},
   "source": [
    "## From USD to EUR"
   ]
  },
  {
   "cell_type": "code",
   "execution_count": 1016,
   "id": "fbb8a68c-f13e-4049-98d9-c1b781fc6bac",
   "metadata": {},
   "outputs": [
    {
     "data": {
      "text/plain": [
       "array(['id', 'loan_amnt', 'funded_amnt', 'int_rate', 'installment', 'total_pymnt', 'exchange_rate'],\n",
       "      dtype='<U69')"
      ]
     },
     "execution_count": 1016,
     "metadata": {},
     "output_type": "execute_result"
    }
   ],
   "source": [
    "ldn_Column_Names"
   ]
  },
  {
   "cell_type": "code",
   "execution_count": 1017,
   "id": "ccf7be33-b820-4406-b264-0b75585e3c42",
   "metadata": {},
   "outputs": [],
   "source": [
    "columns_dollar = np.array([1,2,4,5])"
   ]
  },
  {
   "cell_type": "code",
   "execution_count": 1019,
   "id": "3a42765f-ae93-4658-becb-f74cc3f02f40",
   "metadata": {},
   "outputs": [
    {
     "data": {
      "text/plain": [
       "array([[[35000.  , 35000.  ,  1184.86,  9452.96]],\n",
       "\n",
       "       [[30000.  , 30000.  ,   938.57,  4679.7 ]],\n",
       "\n",
       "       [[15000.  , 15000.  ,   494.86,  1969.83]],\n",
       "\n",
       "       ...,\n",
       "\n",
       "       [[10000.  , 10000.  ,  1372.97,  2185.64]],\n",
       "\n",
       "       [[35000.  , 10000.  ,   354.3 ,  3199.4 ]],\n",
       "\n",
       "       [[10000.  , 10000.  ,   309.97,   301.9 ]]])"
      ]
     },
     "execution_count": 1019,
     "metadata": {},
     "output_type": "execute_result"
    }
   ],
   "source": [
    "ldn[:,[columns_dollar]]"
   ]
  },
  {
   "cell_type": "code",
   "execution_count": 1020,
   "id": "c33d47ea-2b1f-4455-a379-c469990857ad",
   "metadata": {},
   "outputs": [
    {
     "data": {
      "text/plain": [
       "array([1.1 , 1.11, 1.13, ..., 1.12, 1.11, 1.09])"
      ]
     },
     "execution_count": 1020,
     "metadata": {},
     "output_type": "execute_result"
    }
   ],
   "source": [
    "ldn[:,6]"
   ]
  },
  {
   "cell_type": "code",
   "execution_count": 1029,
   "id": "55dc4cf3-3975-4248-b0e1-b4493fddebfd",
   "metadata": {},
   "outputs": [],
   "source": [
    "for i in columns_dollar:\n",
    "    ldn = np.hstack((ldn, np.reshape( ldn[:,i] / ldn[:,6] , (10000,1))))"
   ]
  },
  {
   "cell_type": "code",
   "execution_count": 1030,
   "id": "da336a3d-12d2-47c9-a76c-4fb44e0ead1f",
   "metadata": {},
   "outputs": [
    {
     "data": {
      "text/plain": [
       "array([[48010226.  ,    35000.  ,    35000.  , ...,    31933.3 ,     1081.04,     8624.69],\n",
       "       [57693261.  ,    30000.  ,    30000.  , ...,    27132.46,      848.86,     4232.39],\n",
       "       [59432726.  ,    15000.  ,    15000.  , ...,    13326.3 ,      439.64,     1750.04],\n",
       "       ...,\n",
       "       [50415990.  ,    10000.  ,    10000.  , ...,     8910.3 ,     1223.36,     1947.47],\n",
       "       [46154151.  ,    35000.  ,    10000.  , ...,     8997.4 ,      318.78,     2878.63],\n",
       "       [66055249.  ,    10000.  ,    10000.  , ...,     9145.8 ,      283.49,      276.11]])"
      ]
     },
     "execution_count": 1030,
     "metadata": {},
     "output_type": "execute_result"
    }
   ],
   "source": [
    "ldn"
   ]
  },
  {
   "cell_type": "code",
   "execution_count": 1031,
   "id": "20b9d994-afcb-43cf-9b93-863510c157f7",
   "metadata": {},
   "outputs": [
    {
     "data": {
      "text/plain": [
       "(10000, 11)"
      ]
     },
     "execution_count": 1031,
     "metadata": {},
     "output_type": "execute_result"
    }
   ],
   "source": [
    "ldn.shape"
   ]
  },
  {
   "cell_type": "markdown",
   "id": "4a4c09a5-c8c8-4a7d-96ea-13b763083c98",
   "metadata": {},
   "source": [
    "### Expanding Header"
   ]
  },
  {
   "cell_type": "code",
   "execution_count": 1032,
   "id": "b425d1e9-5ecf-4537-90df-bb74387fa805",
   "metadata": {},
   "outputs": [
    {
     "data": {
      "text/plain": [
       "array(['id', 'loan_amnt', 'funded_amnt', 'int_rate', 'installment', 'total_pymnt', 'exchange_rate'],\n",
       "      dtype='<U69')"
      ]
     },
     "execution_count": 1032,
     "metadata": {},
     "output_type": "execute_result"
    }
   ],
   "source": [
    "ldn_Column_Names"
   ]
  },
  {
   "cell_type": "code",
   "execution_count": 1037,
   "id": "7dd32034-06f3-4f1a-9782-d8eef1f6b295",
   "metadata": {},
   "outputs": [],
   "source": [
    "ldn_Column_Names_additional = np.array([column_name + '_EUR' for column_name in ldn_Column_Names[columns_dollar]])"
   ]
  },
  {
   "cell_type": "code",
   "execution_count": 1038,
   "id": "2978b733-3c40-4fa4-ade9-043c259c5c50",
   "metadata": {},
   "outputs": [
    {
     "data": {
      "text/plain": [
       "array(['loan_amnt_EUR', 'funded_amnt_EUR', 'installment_EUR', 'total_pymnt_EUR'], dtype='<U15')"
      ]
     },
     "execution_count": 1038,
     "metadata": {},
     "output_type": "execute_result"
    }
   ],
   "source": [
    "ldn_Column_Names_additional"
   ]
  },
  {
   "cell_type": "code",
   "execution_count": 1041,
   "id": "cbb659c0-226d-42d2-bb00-0227944b803e",
   "metadata": {},
   "outputs": [],
   "source": [
    "ldn_Column_Names = np.concatenate((ldn_Column_Names, ldn_Column_Names_additional))"
   ]
  },
  {
   "cell_type": "code",
   "execution_count": 1042,
   "id": "ea2db1ec-bbb5-4531-acf8-fc4b7467837e",
   "metadata": {},
   "outputs": [
    {
     "data": {
      "text/plain": [
       "array(['id', 'loan_amnt', 'funded_amnt', 'int_rate', 'installment', 'total_pymnt', 'exchange_rate',\n",
       "       'loan_amnt_EUR', 'funded_amnt_EUR', 'installment_EUR', 'total_pymnt_EUR'], dtype='<U69')"
      ]
     },
     "execution_count": 1042,
     "metadata": {},
     "output_type": "execute_result"
    }
   ],
   "source": [
    "ldn_Column_Names"
   ]
  },
  {
   "cell_type": "code",
   "execution_count": 1047,
   "id": "f5a659cd-a2be-4f81-aec1-48839fc44923",
   "metadata": {},
   "outputs": [],
   "source": [
    "ldn_Column_Names[columns_dollar] = np.array([column_name + '_USD' for column_name in ldn_Column_Names[columns_dollar]])"
   ]
  },
  {
   "cell_type": "code",
   "execution_count": 1048,
   "id": "59a9633e-2acf-4515-acfd-b72a5d878dfb",
   "metadata": {},
   "outputs": [
    {
     "data": {
      "text/plain": [
       "array(['id', 'loan_amnt_USD', 'funded_amnt_USD', 'int_rate', 'installment_USD', 'total_pymnt_USD',\n",
       "       'exchange_rate', 'loan_amnt_EUR', 'funded_amnt_EUR', 'installment_EUR', 'total_pymnt_EUR'],\n",
       "      dtype='<U69')"
      ]
     },
     "execution_count": 1048,
     "metadata": {},
     "output_type": "execute_result"
    }
   ],
   "source": [
    "ldn_Column_Names"
   ]
  },
  {
   "cell_type": "code",
   "execution_count": 1049,
   "id": "472eecd7-731e-43d6-b201-c92473d3997e",
   "metadata": {},
   "outputs": [],
   "source": [
    "column_index_order = [0,1,7,2,8,3,4,9,5,10,6]"
   ]
  },
  {
   "cell_type": "code",
   "execution_count": 1051,
   "id": "7df886b5-287b-43e6-842d-ba4a507e5685",
   "metadata": {},
   "outputs": [],
   "source": [
    "ldn_Column_Names = ldn_Column_Names[column_index_order]"
   ]
  },
  {
   "cell_type": "code",
   "execution_count": 1052,
   "id": "03545da4-6529-4940-a1fb-0adedb893d91",
   "metadata": {},
   "outputs": [
    {
     "data": {
      "text/plain": [
       "array(['id', 'loan_amnt_USD', 'loan_amnt_EUR', 'funded_amnt_USD', 'funded_amnt_EUR', 'int_rate',\n",
       "       'installment_USD', 'installment_EUR', 'total_pymnt_USD', 'total_pymnt_EUR', 'exchange_rate'],\n",
       "      dtype='<U69')"
      ]
     },
     "execution_count": 1052,
     "metadata": {},
     "output_type": "execute_result"
    }
   ],
   "source": [
    "ldn_Column_Names"
   ]
  },
  {
   "cell_type": "code",
   "execution_count": 1055,
   "id": "8490a8dd-6726-45ab-8445-83bc18c3916e",
   "metadata": {},
   "outputs": [],
   "source": [
    "ldn = ldn[:,column_index_order]"
   ]
  },
  {
   "cell_type": "code",
   "execution_count": 1056,
   "id": "6e972971-4f8e-4476-b427-f03e4b144a72",
   "metadata": {},
   "outputs": [
    {
     "data": {
      "text/plain": [
       "array([[48010226.  ,    35000.  ,    31933.3 , ...,     9452.96,     8624.69,        1.1 ],\n",
       "       [57693261.  ,    30000.  ,    27132.46, ...,     4679.7 ,     4232.39,        1.11],\n",
       "       [59432726.  ,    15000.  ,    13326.3 , ...,     1969.83,     1750.04,        1.13],\n",
       "       ...,\n",
       "       [50415990.  ,    10000.  ,     8910.3 , ...,     2185.64,     1947.47,        1.12],\n",
       "       [46154151.  ,    35000.  ,    31490.9 , ...,     3199.4 ,     2878.63,        1.11],\n",
       "       [66055249.  ,    10000.  ,     9145.8 , ...,      301.9 ,      276.11,        1.09]])"
      ]
     },
     "execution_count": 1056,
     "metadata": {},
     "output_type": "execute_result"
    }
   ],
   "source": [
    "ldn"
   ]
  },
  {
   "cell_type": "markdown",
   "id": "175a1547-a2b0-4054-9abb-39cd61277f8a",
   "metadata": {},
   "source": [
    "## Intrest rate column"
   ]
  },
  {
   "cell_type": "code",
   "execution_count": 1057,
   "id": "0797a97a-f3a8-4d43-9626-94e9ccf95ab8",
   "metadata": {},
   "outputs": [
    {
     "data": {
      "text/plain": [
       "array(['id', 'loan_amnt_USD', 'loan_amnt_EUR', 'funded_amnt_USD', 'funded_amnt_EUR', 'int_rate',\n",
       "       'installment_USD', 'installment_EUR', 'total_pymnt_USD', 'total_pymnt_EUR', 'exchange_rate'],\n",
       "      dtype='<U69')"
      ]
     },
     "execution_count": 1057,
     "metadata": {},
     "output_type": "execute_result"
    }
   ],
   "source": [
    "ldn_Column_Names"
   ]
  },
  {
   "cell_type": "code",
   "execution_count": 1058,
   "id": "76550a7a-d5f9-49db-88f7-70fd9625e888",
   "metadata": {},
   "outputs": [
    {
     "data": {
      "text/plain": [
       "array([13.33, 28.99, 28.99, ..., 28.99, 16.55, 28.99])"
      ]
     },
     "execution_count": 1058,
     "metadata": {},
     "output_type": "execute_result"
    }
   ],
   "source": [
    "ldn[:,5]"
   ]
  },
  {
   "cell_type": "code",
   "execution_count": 1060,
   "id": "1a510c75-4af9-4661-813c-fa0e1842c02d",
   "metadata": {},
   "outputs": [],
   "source": [
    "ldn[:,5] = ldn[:,5]/100"
   ]
  },
  {
   "cell_type": "code",
   "execution_count": 1061,
   "id": "5268d5bb-641f-4f94-9234-6bbe4573cab5",
   "metadata": {},
   "outputs": [
    {
     "data": {
      "text/plain": [
       "array([0.13, 0.29, 0.29, ..., 0.29, 0.17, 0.29])"
      ]
     },
     "execution_count": 1061,
     "metadata": {},
     "output_type": "execute_result"
    }
   ],
   "source": [
    "ldn[:,5]"
   ]
  },
  {
   "cell_type": "markdown",
   "id": "fe46bca4-37b8-4c55-a718-b41a05cdb8fa",
   "metadata": {},
   "source": [
    "## Complete the Dataset"
   ]
  },
  {
   "cell_type": "code",
   "execution_count": 1063,
   "id": "473e23ee-9f06-49d4-8980-51c2141acfec",
   "metadata": {},
   "outputs": [
    {
     "data": {
      "text/plain": [
       "(10000, 6)"
      ]
     },
     "execution_count": 1063,
     "metadata": {},
     "output_type": "execute_result"
    }
   ],
   "source": [
    "lds.shape"
   ]
  },
  {
   "cell_type": "code",
   "execution_count": 1065,
   "id": "10581044-bffa-45bb-848d-74b169ebc5cf",
   "metadata": {},
   "outputs": [
    {
     "data": {
      "text/plain": [
       "(10000, 11)"
      ]
     },
     "execution_count": 1065,
     "metadata": {},
     "output_type": "execute_result"
    }
   ],
   "source": [
    "ldn.shape"
   ]
  },
  {
   "cell_type": "code",
   "execution_count": 1067,
   "id": "2e387433-9b70-4d8d-a0de-1fa781943867",
   "metadata": {},
   "outputs": [],
   "source": [
    "# Combine the datasets \n",
    "loan_data = np.hstack((ldn,lds))"
   ]
  },
  {
   "cell_type": "code",
   "execution_count": 1069,
   "id": "0c492ad9-0c88-4866-bb70-dc2f36f4ccf5",
   "metadata": {},
   "outputs": [
    {
     "data": {
      "text/plain": [
       "array([[48010226.  ,    35000.  ,    31933.3 , ...,       13.  ,        1.  ,        1.  ],\n",
       "       [57693261.  ,    30000.  ,    27132.46, ...,        5.  ,        1.  ,        4.  ],\n",
       "       [59432726.  ,    15000.  ,    13326.3 , ...,       10.  ,        1.  ,        4.  ],\n",
       "       ...,\n",
       "       [50415990.  ,    10000.  ,     8910.3 , ...,        5.  ,        1.  ,        1.  ],\n",
       "       [46154151.  ,    35000.  ,    31490.9 , ...,       17.  ,        1.  ,        3.  ],\n",
       "       [66055249.  ,    10000.  ,     9145.8 , ...,        4.  ,        0.  ,        3.  ]])"
      ]
     },
     "execution_count": 1069,
     "metadata": {},
     "output_type": "execute_result"
    }
   ],
   "source": [
    "loan_data"
   ]
  },
  {
   "cell_type": "code",
   "execution_count": 1070,
   "id": "8d7629ab-8faa-4469-a07b-09c4f7c5a775",
   "metadata": {},
   "outputs": [
    {
     "data": {
      "text/plain": [
       "0"
      ]
     },
     "execution_count": 1070,
     "metadata": {},
     "output_type": "execute_result"
    }
   ],
   "source": [
    "np.isnan(loan_data).sum()"
   ]
  },
  {
   "cell_type": "code",
   "execution_count": 1073,
   "id": "b511e69c-e228-4c32-bee8-8f177bb102c3",
   "metadata": {},
   "outputs": [],
   "source": [
    "# Combine columns\n",
    "loan_data_Column_Names = np.concatenate((ldn_Column_Names,lds_Column_Names))"
   ]
  },
  {
   "cell_type": "code",
   "execution_count": 1074,
   "id": "aeedfa88-b9ff-4207-b64b-297dbf04b25a",
   "metadata": {},
   "outputs": [
    {
     "data": {
      "text/plain": [
       "array(['id', 'loan_amnt_USD', 'loan_amnt_EUR', 'funded_amnt_USD', 'funded_amnt_EUR', 'int_rate',\n",
       "       'installment_USD', 'installment_EUR', 'total_pymnt_USD', 'total_pymnt_EUR', 'exchange_rate',\n",
       "       'issue_date', 'loan_status', 'term_months', 'sub_grade', 'verification_status',\n",
       "       'addr_state'], dtype='<U69')"
      ]
     },
     "execution_count": 1074,
     "metadata": {},
     "output_type": "execute_result"
    }
   ],
   "source": [
    "loan_data_Column_Names"
   ]
  },
  {
   "cell_type": "markdown",
   "id": "b052dd74-7e83-4459-9e90-15444c81000d",
   "metadata": {},
   "source": [
    "### Sorting the new Data set"
   ]
  },
  {
   "cell_type": "code",
   "execution_count": 1076,
   "id": "3f5270f7-4996-4556-96da-a2f3a064b59e",
   "metadata": {},
   "outputs": [
    {
     "data": {
      "text/plain": [
       "array([  373332.,   575239.,   707689., ..., 68614880., 68615915., 68616519.])"
      ]
     },
     "execution_count": 1076,
     "metadata": {},
     "output_type": "execute_result"
    }
   ],
   "source": [
    "# sort acorting to loan Id \n",
    "np.sort(loan_data[:,0])"
   ]
  },
  {
   "cell_type": "code",
   "execution_count": 1081,
   "id": "10540ef4-6770-4857-955a-b34ce11ff67c",
   "metadata": {},
   "outputs": [],
   "source": [
    "loan_data = loan_data[np.argsort(loan_data[:,0])]"
   ]
  },
  {
   "cell_type": "code",
   "execution_count": 1082,
   "id": "6789706c-f28e-4ce3-9666-bb9939bfb536",
   "metadata": {},
   "outputs": [
    {
     "data": {
      "text/plain": [
       "array([[  373332.  ,     9950.  ,     9038.08, ...,       21.  ,        0.  ,        1.  ],\n",
       "       [  575239.  ,    12000.  ,    10900.2 , ...,       25.  ,        1.  ,        2.  ],\n",
       "       [  707689.  ,    10000.  ,     8924.3 , ...,       13.  ,        1.  ,        0.  ],\n",
       "       ...,\n",
       "       [68614880.  ,     5600.  ,     5121.65, ...,        8.  ,        1.  ,        1.  ],\n",
       "       [68615915.  ,     4000.  ,     3658.32, ...,       10.  ,        1.  ,        2.  ],\n",
       "       [68616519.  ,    21600.  ,    19754.93, ...,        3.  ,        0.  ,        2.  ]])"
      ]
     },
     "execution_count": 1082,
     "metadata": {},
     "output_type": "execute_result"
    }
   ],
   "source": [
    "loan_data"
   ]
  },
  {
   "cell_type": "code",
   "execution_count": 1083,
   "id": "5ad1bc3e-8492-4a19-99ca-2096f2125823",
   "metadata": {},
   "outputs": [
    {
     "data": {
      "text/plain": [
       "(10000, 17)"
      ]
     },
     "execution_count": 1083,
     "metadata": {},
     "output_type": "execute_result"
    }
   ],
   "source": [
    "loan_data.shape"
   ]
  },
  {
   "cell_type": "code",
   "execution_count": 1085,
   "id": "6136f3c2-28e9-4c9e-9314-be9180a633d7",
   "metadata": {},
   "outputs": [
    {
     "data": {
      "text/plain": [
       "array([   0,    1,    2, ..., 9997, 9998, 9999], dtype=int64)"
      ]
     },
     "execution_count": 1085,
     "metadata": {},
     "output_type": "execute_result"
    }
   ],
   "source": [
    "np.argsort(loan_data[:,0])"
   ]
  },
  {
   "cell_type": "markdown",
   "id": "c61b4b73-38fd-4826-8569-73ccbcbb2303",
   "metadata": {},
   "source": [
    "### Storing the Dataset"
   ]
  },
  {
   "cell_type": "code",
   "execution_count": 1087,
   "id": "0d768636-482e-4aa2-b32d-690a1dfa9ae9",
   "metadata": {},
   "outputs": [],
   "source": [
    "loan_data = np.vstack((loan_data_Column_Names,loan_data))"
   ]
  },
  {
   "cell_type": "code",
   "execution_count": 1088,
   "id": "d40ecff1-fb5c-4d53-b2ac-a2fe31139d3d",
   "metadata": {},
   "outputs": [
    {
     "data": {
      "text/plain": [
       "array([['id', 'loan_amnt_USD', 'loan_amnt_EUR', ..., 'sub_grade', 'verification_status',\n",
       "        'addr_state'],\n",
       "       ['373332.0', '9950.0', '9038.082814338286', ..., '21.0', '0.0', '1.0'],\n",
       "       ['575239.0', '12000.0', '10900.20037910145', ..., '25.0', '1.0', '2.0'],\n",
       "       ...,\n",
       "       ['68614880.0', '5600.0', '5121.647851612413', ..., '8.0', '1.0', '1.0'],\n",
       "       ['68615915.0', '4000.0', '3658.319894008867', ..., '10.0', '1.0', '2.0'],\n",
       "       ['68616519.0', '21600.0', '19754.927427647883', ..., '3.0', '0.0', '2.0']], dtype='<U69')"
      ]
     },
     "execution_count": 1088,
     "metadata": {},
     "output_type": "execute_result"
    }
   ],
   "source": [
    "loan_data"
   ]
  },
  {
   "cell_type": "code",
   "execution_count": 1091,
   "id": "f9bfa0e1-086f-4615-8f7d-a34e43ef24ac",
   "metadata": {},
   "outputs": [],
   "source": [
    "np.savetxt(r\"D:\\Data sets\\Udemy Practice\\Data Cleaning & processing\\Loan-data-preprossed.csv\", \n",
    "           loan_data, \n",
    "           fmt = \"%s\", \n",
    "           delimiter = ',')"
   ]
  }
 ],
 "metadata": {
  "kernelspec": {
   "display_name": "Python 3 (ipykernel)",
   "language": "python",
   "name": "python3"
  },
  "language_info": {
   "codemirror_mode": {
    "name": "ipython",
    "version": 3
   },
   "file_extension": ".py",
   "mimetype": "text/x-python",
   "name": "python",
   "nbconvert_exporter": "python",
   "pygments_lexer": "ipython3",
   "version": "3.12.7"
  }
 },
 "nbformat": 4,
 "nbformat_minor": 5
}
