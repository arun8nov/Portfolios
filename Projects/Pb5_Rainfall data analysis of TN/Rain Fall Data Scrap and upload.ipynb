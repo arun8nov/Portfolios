{
 "cells": [
  {
   "cell_type": "code",
   "execution_count": 14,
   "id": "0d023664-12c0-43d9-92ba-7368f230c3f4",
   "metadata": {
    "scrolled": true
   },
   "outputs": [
    {
     "name": "stdout",
     "output_type": "stream",
     "text": [
      "The HTML file was imported successfully.\n",
      "Date match with current Date\n"
     ]
    },
    {
     "name": "stderr",
     "output_type": "stream",
     "text": [
      "C:\\Users\\Arunprakash Babu\\AppData\\Local\\Temp\\ipykernel_15340\\893786283.py:42: FutureWarning: ChainedAssignmentError: behaviour will change in pandas 3.0!\n",
      "You are setting values through chained assignment. Currently this works in certain cases, but when using Copy-on-Write (which will become the default behaviour in pandas 3.0) this will never work to update the original DataFrame or Series, because the intermediate object on which we are setting values will behave as a copy.\n",
      "A typical example is when you are setting values in a column of a DataFrame, like:\n",
      "\n",
      "df[\"col\"][row_indexer] = value\n",
      "\n",
      "Use `df.loc[row_indexer, \"col\"] = values` instead, to perform the assignment in a single step and ensure this keeps updating the original `df`.\n",
      "\n",
      "See the caveats in the documentation: https://pandas.pydata.org/pandas-docs/stable/user_guide/indexing.html#returning-a-view-versus-a-copy\n",
      "\n",
      "  df1[3].loc[df1[4.1].dropna().index] = df1[3].loc[df1[4.1].dropna().index] + \",\" + df1[4.1].dropna().values\n",
      "C:\\Users\\Arunprakash Babu\\AppData\\Local\\Temp\\ipykernel_15340\\893786283.py:58: UserWarning: Parsing dates in %Y-%m-%d format when dayfirst=True was specified. Pass `dayfirst=False` or specify a format to silence this warning.\n",
      "  TN_Rain_Fall_History.date = pd.to_datetime(TN_Rain_Fall_History.date, dayfirst = True)\n",
      "C:\\Users\\Arunprakash Babu\\AppData\\Local\\Temp\\ipykernel_15340\\893786283.py:59: FutureWarning: Series.__getitem__ treating keys as positions is deprecated. In a future version, integer keys will always be treated as labels (consistent with DataFrame behavior). To access a value by position, use `ser.iloc[pos]`\n",
      "  if TN_Rain_Fall_History.loc[len(TN_Rain_Fall_History)-1][4] != Today_Rain_Fall.loc[0][4]:\n"
     ]
    },
    {
     "name": "stdout",
     "output_type": "stream",
     "text": [
      "No Change\n"
     ]
    }
   ],
   "source": [
    "from bs4 import BeautifulSoup\n",
    "import requests\n",
    "import pandas as pd\n",
    "import datetime\n",
    "from datetime import date\n",
    "url = 'https://beta-tnsmart.rimes.int/index.php/Rainfall/daily_data'\n",
    "response = requests.get(url)\n",
    "if response.status_code == 200:\n",
    "    print(\"The HTML file was imported successfully.\")\n",
    "    soup = BeautifulSoup(response.text, 'html')\n",
    "else:\n",
    "    print(\"An error occurred while importing the file.\")\n",
    "    soup = []\n",
    "Da = soup.find(class_ = \"panel-heading\")\n",
    "Date = Da.text.strip().replace(\"District wise observed Rainfall\\n                    data on \",\"\")\n",
    "month = { \"Jan\" : \"01\", \"Feb\" : \"02\", \"Mar\" : \"03\", \"Apr\" : \"04\", \"May\" : \"05\", \"Jun\" : \"06\", \"Jul\" : \"07\",\n",
    "          \"Aug\" : \"08\", \"Sep\" : \"09\", \"Oct\" : \"10\", \"Nov\" : \"11\", \"Dec\" : \"12\"}\n",
    "Da = Date.replace(Date[3:6],month[Date[3:6]])\n",
    "y = int(Da[6:11])\n",
    "m = int(Da[3:5])\n",
    "d = int(Da[0:2])\n",
    "Today_Date =datetime.date(y,m,d)\n",
    "if ((Today_Date == date.today())):\n",
    "    print(\"Date match with current Date\")\n",
    "    table = soup.find('table', id = \"data_table\")\n",
    "else:\n",
    "    print(\"Date not matched\")\n",
    "    table = []\n",
    "table_tr = table.find_all('tr')\n",
    "list = [table_tr.text.strip().replace(\"\\n\\n\", \",\") for table_tr in table_tr][1:]\n",
    "datalist = []\n",
    "for i in range(len(list)):\n",
    "    datalist.append(list[i].strip().replace(\"\\n\",\",\"))\n",
    "df = pd.DataFrame(datalist, columns = ['A'])\n",
    "df1 = pd.DataFrame(df)\n",
    "df1 = df1.A.str.split(\",\",expand = True)\n",
    "df1 = df1.drop(columns = [6,7,8,9])\n",
    "delete_rows = df1[df1[4].isna()].index\n",
    "delete_rows = delete_rows.append(df1[-1:].index)\n",
    "df1 = df1.drop(delete_rows,axis=0)\n",
    "df1[4.1] = df1[4].str.extract('([a-zA-Z]+)')\n",
    "df1[3].loc[df1[4.1].dropna().index] = df1[3].loc[df1[4.1].dropna().index] + \",\" + df1[4.1].dropna().values\n",
    "df1[4].loc[df1[4.1].dropna().index] = df1[5].loc[df1[4.1].dropna().index]\n",
    "df1 = df1.drop(columns = [0.0,5.0,4.1])\n",
    "column_Name = ['dept', 'dist', 'station', 'value']\n",
    "df1.columns = column_Name\n",
    "df1.value = df1.value.astype(float)\n",
    "df1 = df1.reset_index()\n",
    "df1 = df1.drop(columns = 'index')\n",
    "DL = [Da] \n",
    "for i in range (len(df1)):\n",
    "    DL.append(DL[0])\n",
    "C_Date = pd.DataFrame(DL,columns= ['date'])\n",
    "C_Date.date = C_Date.date.astype('datetime64[ns]')\n",
    "Today_Rain_Fall = df1.join(C_Date)\n",
    "# Fusing the two Datas\n",
    "TN_Rain_Fall_History = pd.read_csv(r\"C:\\Users\\Arunprakash Babu\\OneDrive\\ドキュメント\\GitHub\\Portfolios\\Projects\\Pb5_Rainfall data analysis of TN\\Total_Rain_Fall_Data.csv\", index_col = 0)\n",
    "TN_Rain_Fall_History.date = pd.to_datetime(TN_Rain_Fall_History.date, dayfirst = True)\n",
    "if TN_Rain_Fall_History.loc[len(TN_Rain_Fall_History)-1][4] != Today_Rain_Fall.loc[0][4]:\n",
    "    Total_Rain_Fall_Data = pd.concat([TN_Rain_Fall_History,Today_Rain_Fall])\n",
    "    print(\"Data Added\")\n",
    "else :\n",
    "    Total_Rain_Fall_Data = TN_Rain_Fall_History\n",
    "    print(\"No Change\")\n",
    "Total_Rain_Fall_Data = Total_Rain_Fall_Data.reset_index(drop = True)\n",
    "Total_Rain_Fall_Data.index.name = 'id'\n",
    "Total_Rain_Fall_Data.to_csv(r\"C:\\Users\\Arunprakash Babu\\OneDrive\\ドキュメント\\GitHub\\Portfolios\\Projects\\Pb5_Rainfall data analysis of TN\\Total_Rain_Fall_Data.csv\")"
   ]
  }
 ],
 "metadata": {
  "kernelspec": {
   "display_name": "Python 3 (ipykernel)",
   "language": "python",
   "name": "python3"
  },
  "language_info": {
   "codemirror_mode": {
    "name": "ipython",
    "version": 3
   },
   "file_extension": ".py",
   "mimetype": "text/x-python",
   "name": "python",
   "nbconvert_exporter": "python",
   "pygments_lexer": "ipython3",
   "version": "3.12.7"
  }
 },
 "nbformat": 4,
 "nbformat_minor": 5
}
